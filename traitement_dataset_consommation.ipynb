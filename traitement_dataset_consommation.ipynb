{
 "cells": [
  {
   "cell_type": "code",
   "execution_count": 5,
   "metadata": {},
   "outputs": [],
   "source": [
    "import pandas as pd\n",
    "import numpy as np"
   ]
  },
  {
   "attachments": {},
   "cell_type": "markdown",
   "metadata": {},
   "source": [
    "dataset : conso-inf36-region.csv"
   ]
  },
  {
   "attachments": {},
   "cell_type": "markdown",
   "metadata": {},
   "source": [
    "# Concaténer les 4 datasets téléchargés"
   ]
  },
  {
   "cell_type": "code",
   "execution_count": 5,
   "metadata": {},
   "outputs": [],
   "source": [
    "# load json in dataframe \n",
    "df1 = pd.read_csv(\"conso-inf36-region-part1.csv\", sep=\";\")\n",
    "df2 = pd.read_csv(\"conso-inf36-region-part2.csv\", sep=\";\")\n",
    "df3 = pd.read_csv(\"conso-inf36-region-part3.csv\", sep=\";\")\n",
    "df4 = pd.read_csv(\"conso-inf36-region-part4.csv\", sep=\";\")"
   ]
  },
  {
   "cell_type": "code",
   "execution_count": 3,
   "metadata": {},
   "outputs": [
    {
     "name": "stdout",
     "output_type": "stream",
     "text": [
      "(16314999, 15) (7516999, 15) (6279888, 15) (17286912, 15)\n"
     ]
    }
   ],
   "source": [
    "# give the shapes of the datasets in a row\n",
    "print(df1.shape, df2.shape, df3.shape, df4.shape)\n"
   ]
  },
  {
   "cell_type": "code",
   "execution_count": 4,
   "metadata": {},
   "outputs": [
    {
     "name": "stdout",
     "output_type": "stream",
     "text": [
      "47398798\n"
     ]
    }
   ],
   "source": [
    "# print the sum of the rows in the datasets \n",
    "print(df1.shape[0] + df2.shape[0] + df3.shape[0] + df4.shape[0])"
   ]
  },
  {
   "cell_type": "code",
   "execution_count": 8,
   "metadata": {},
   "outputs": [],
   "source": [
    "def traitement_dataset(df) :\n",
    "    # keep only the columns we need\n",
    "    df = df[[\"Horodate\", \"Région\", \"Profil\", \"Plage de puissance souscrite\", \"Nb points soutirage\", \"Total énergie soutirée (Wh)\"]]\n",
    "    split_horodate = df[\"Horodate\"].str.split(\"-\", expand=True)\n",
    "    df[\"Year\"] = split_horodate[0]\n",
    "    df[\"Month\"] = split_horodate[1]\n",
    "    #df[\"Day\"] = df[\"Horodate\"].str.split(\"-\", expand=True)[2].str.split(\"T\", expand=True)[0]\n",
    "    #df[\"Time\"] = pd.to_datetime(split_horodate[2].str.split(\"T\", expand=True)[1].str.split(\"+\", expand=True)[0])\n",
    "    df[\"Date\"] = pd.to_datetime(df[\"Horodate\"].str.split(\"T\", expand=True)[0])\n",
    "    #df[\"Time\"] = df[\"Time\"].dt.time\n",
    "    df[\"Catégorie profil\"] = np.where(df[\"Profil\"].str.contains(\"RES\"), \"RES\", \"PRO\")\n",
    "    df[\"Total énergie soutirée (MWh)\"] = df[\"Total énergie soutirée (Wh)\"] / 1000000\n",
    "    return df\n",
    "    "
   ]
  },
  {
   "cell_type": "code",
   "execution_count": 9,
   "metadata": {},
   "outputs": [
    {
     "name": "stderr",
     "output_type": "stream",
     "text": [
      "C:\\Users\\lauri\\AppData\\Local\\Temp\\ipykernel_29092\\993967102.py:5: SettingWithCopyWarning: \n",
      "A value is trying to be set on a copy of a slice from a DataFrame.\n",
      "Try using .loc[row_indexer,col_indexer] = value instead\n",
      "\n",
      "See the caveats in the documentation: https://pandas.pydata.org/pandas-docs/stable/user_guide/indexing.html#returning-a-view-versus-a-copy\n",
      "  df[\"Year\"] = split_horodate[0]\n",
      "C:\\Users\\lauri\\AppData\\Local\\Temp\\ipykernel_29092\\993967102.py:6: SettingWithCopyWarning: \n",
      "A value is trying to be set on a copy of a slice from a DataFrame.\n",
      "Try using .loc[row_indexer,col_indexer] = value instead\n",
      "\n",
      "See the caveats in the documentation: https://pandas.pydata.org/pandas-docs/stable/user_guide/indexing.html#returning-a-view-versus-a-copy\n",
      "  df[\"Month\"] = split_horodate[1]\n",
      "C:\\Users\\lauri\\AppData\\Local\\Temp\\ipykernel_29092\\993967102.py:9: SettingWithCopyWarning: \n",
      "A value is trying to be set on a copy of a slice from a DataFrame.\n",
      "Try using .loc[row_indexer,col_indexer] = value instead\n",
      "\n",
      "See the caveats in the documentation: https://pandas.pydata.org/pandas-docs/stable/user_guide/indexing.html#returning-a-view-versus-a-copy\n",
      "  df[\"Date\"] = pd.to_datetime(df[\"Horodate\"].str.split(\"T\", expand=True)[0])\n",
      "C:\\Users\\lauri\\AppData\\Local\\Temp\\ipykernel_29092\\993967102.py:11: SettingWithCopyWarning: \n",
      "A value is trying to be set on a copy of a slice from a DataFrame.\n",
      "Try using .loc[row_indexer,col_indexer] = value instead\n",
      "\n",
      "See the caveats in the documentation: https://pandas.pydata.org/pandas-docs/stable/user_guide/indexing.html#returning-a-view-versus-a-copy\n",
      "  df[\"Catégorie profil\"] = np.where(df[\"Profil\"].str.contains(\"RES\"), \"RES\", \"PRO\")\n",
      "C:\\Users\\lauri\\AppData\\Local\\Temp\\ipykernel_29092\\993967102.py:12: SettingWithCopyWarning: \n",
      "A value is trying to be set on a copy of a slice from a DataFrame.\n",
      "Try using .loc[row_indexer,col_indexer] = value instead\n",
      "\n",
      "See the caveats in the documentation: https://pandas.pydata.org/pandas-docs/stable/user_guide/indexing.html#returning-a-view-versus-a-copy\n",
      "  df[\"Total énergie soutirée (MWh)\"] = df[\"Total énergie soutirée (Wh)\"] / 1000000\n"
     ]
    }
   ],
   "source": [
    "df1 = traitement_dataset(df1)\n"
   ]
  },
  {
   "cell_type": "code",
   "execution_count": 10,
   "metadata": {},
   "outputs": [
    {
     "name": "stderr",
     "output_type": "stream",
     "text": [
      "C:\\Users\\lauri\\AppData\\Local\\Temp\\ipykernel_29092\\993967102.py:5: SettingWithCopyWarning: \n",
      "A value is trying to be set on a copy of a slice from a DataFrame.\n",
      "Try using .loc[row_indexer,col_indexer] = value instead\n",
      "\n",
      "See the caveats in the documentation: https://pandas.pydata.org/pandas-docs/stable/user_guide/indexing.html#returning-a-view-versus-a-copy\n",
      "  df[\"Year\"] = split_horodate[0]\n",
      "C:\\Users\\lauri\\AppData\\Local\\Temp\\ipykernel_29092\\993967102.py:6: SettingWithCopyWarning: \n",
      "A value is trying to be set on a copy of a slice from a DataFrame.\n",
      "Try using .loc[row_indexer,col_indexer] = value instead\n",
      "\n",
      "See the caveats in the documentation: https://pandas.pydata.org/pandas-docs/stable/user_guide/indexing.html#returning-a-view-versus-a-copy\n",
      "  df[\"Month\"] = split_horodate[1]\n",
      "C:\\Users\\lauri\\AppData\\Local\\Temp\\ipykernel_29092\\993967102.py:9: SettingWithCopyWarning: \n",
      "A value is trying to be set on a copy of a slice from a DataFrame.\n",
      "Try using .loc[row_indexer,col_indexer] = value instead\n",
      "\n",
      "See the caveats in the documentation: https://pandas.pydata.org/pandas-docs/stable/user_guide/indexing.html#returning-a-view-versus-a-copy\n",
      "  df[\"Date\"] = pd.to_datetime(df[\"Horodate\"].str.split(\"T\", expand=True)[0])\n",
      "C:\\Users\\lauri\\AppData\\Local\\Temp\\ipykernel_29092\\993967102.py:11: SettingWithCopyWarning: \n",
      "A value is trying to be set on a copy of a slice from a DataFrame.\n",
      "Try using .loc[row_indexer,col_indexer] = value instead\n",
      "\n",
      "See the caveats in the documentation: https://pandas.pydata.org/pandas-docs/stable/user_guide/indexing.html#returning-a-view-versus-a-copy\n",
      "  df[\"Catégorie profil\"] = np.where(df[\"Profil\"].str.contains(\"RES\"), \"RES\", \"PRO\")\n",
      "C:\\Users\\lauri\\AppData\\Local\\Temp\\ipykernel_29092\\993967102.py:12: SettingWithCopyWarning: \n",
      "A value is trying to be set on a copy of a slice from a DataFrame.\n",
      "Try using .loc[row_indexer,col_indexer] = value instead\n",
      "\n",
      "See the caveats in the documentation: https://pandas.pydata.org/pandas-docs/stable/user_guide/indexing.html#returning-a-view-versus-a-copy\n",
      "  df[\"Total énergie soutirée (MWh)\"] = df[\"Total énergie soutirée (Wh)\"] / 1000000\n"
     ]
    }
   ],
   "source": [
    "df2 = traitement_dataset(df2)\n"
   ]
  },
  {
   "cell_type": "code",
   "execution_count": 11,
   "metadata": {},
   "outputs": [
    {
     "name": "stderr",
     "output_type": "stream",
     "text": [
      "C:\\Users\\lauri\\AppData\\Local\\Temp\\ipykernel_29092\\993967102.py:5: SettingWithCopyWarning: \n",
      "A value is trying to be set on a copy of a slice from a DataFrame.\n",
      "Try using .loc[row_indexer,col_indexer] = value instead\n",
      "\n",
      "See the caveats in the documentation: https://pandas.pydata.org/pandas-docs/stable/user_guide/indexing.html#returning-a-view-versus-a-copy\n",
      "  df[\"Year\"] = split_horodate[0]\n",
      "C:\\Users\\lauri\\AppData\\Local\\Temp\\ipykernel_29092\\993967102.py:6: SettingWithCopyWarning: \n",
      "A value is trying to be set on a copy of a slice from a DataFrame.\n",
      "Try using .loc[row_indexer,col_indexer] = value instead\n",
      "\n",
      "See the caveats in the documentation: https://pandas.pydata.org/pandas-docs/stable/user_guide/indexing.html#returning-a-view-versus-a-copy\n",
      "  df[\"Month\"] = split_horodate[1]\n",
      "C:\\Users\\lauri\\AppData\\Local\\Temp\\ipykernel_29092\\993967102.py:9: SettingWithCopyWarning: \n",
      "A value is trying to be set on a copy of a slice from a DataFrame.\n",
      "Try using .loc[row_indexer,col_indexer] = value instead\n",
      "\n",
      "See the caveats in the documentation: https://pandas.pydata.org/pandas-docs/stable/user_guide/indexing.html#returning-a-view-versus-a-copy\n",
      "  df[\"Date\"] = pd.to_datetime(df[\"Horodate\"].str.split(\"T\", expand=True)[0])\n",
      "C:\\Users\\lauri\\AppData\\Local\\Temp\\ipykernel_29092\\993967102.py:11: SettingWithCopyWarning: \n",
      "A value is trying to be set on a copy of a slice from a DataFrame.\n",
      "Try using .loc[row_indexer,col_indexer] = value instead\n",
      "\n",
      "See the caveats in the documentation: https://pandas.pydata.org/pandas-docs/stable/user_guide/indexing.html#returning-a-view-versus-a-copy\n",
      "  df[\"Catégorie profil\"] = np.where(df[\"Profil\"].str.contains(\"RES\"), \"RES\", \"PRO\")\n",
      "C:\\Users\\lauri\\AppData\\Local\\Temp\\ipykernel_29092\\993967102.py:12: SettingWithCopyWarning: \n",
      "A value is trying to be set on a copy of a slice from a DataFrame.\n",
      "Try using .loc[row_indexer,col_indexer] = value instead\n",
      "\n",
      "See the caveats in the documentation: https://pandas.pydata.org/pandas-docs/stable/user_guide/indexing.html#returning-a-view-versus-a-copy\n",
      "  df[\"Total énergie soutirée (MWh)\"] = df[\"Total énergie soutirée (Wh)\"] / 1000000\n"
     ]
    }
   ],
   "source": [
    "df3 = traitement_dataset(df3)\n"
   ]
  },
  {
   "cell_type": "code",
   "execution_count": 12,
   "metadata": {},
   "outputs": [
    {
     "name": "stderr",
     "output_type": "stream",
     "text": [
      "C:\\Users\\lauri\\AppData\\Local\\Temp\\ipykernel_29092\\993967102.py:5: SettingWithCopyWarning: \n",
      "A value is trying to be set on a copy of a slice from a DataFrame.\n",
      "Try using .loc[row_indexer,col_indexer] = value instead\n",
      "\n",
      "See the caveats in the documentation: https://pandas.pydata.org/pandas-docs/stable/user_guide/indexing.html#returning-a-view-versus-a-copy\n",
      "  df[\"Year\"] = split_horodate[0]\n",
      "C:\\Users\\lauri\\AppData\\Local\\Temp\\ipykernel_29092\\993967102.py:6: SettingWithCopyWarning: \n",
      "A value is trying to be set on a copy of a slice from a DataFrame.\n",
      "Try using .loc[row_indexer,col_indexer] = value instead\n",
      "\n",
      "See the caveats in the documentation: https://pandas.pydata.org/pandas-docs/stable/user_guide/indexing.html#returning-a-view-versus-a-copy\n",
      "  df[\"Month\"] = split_horodate[1]\n",
      "C:\\Users\\lauri\\AppData\\Local\\Temp\\ipykernel_29092\\993967102.py:9: SettingWithCopyWarning: \n",
      "A value is trying to be set on a copy of a slice from a DataFrame.\n",
      "Try using .loc[row_indexer,col_indexer] = value instead\n",
      "\n",
      "See the caveats in the documentation: https://pandas.pydata.org/pandas-docs/stable/user_guide/indexing.html#returning-a-view-versus-a-copy\n",
      "  df[\"Date\"] = pd.to_datetime(df[\"Horodate\"].str.split(\"T\", expand=True)[0])\n",
      "C:\\Users\\lauri\\AppData\\Local\\Temp\\ipykernel_29092\\993967102.py:11: SettingWithCopyWarning: \n",
      "A value is trying to be set on a copy of a slice from a DataFrame.\n",
      "Try using .loc[row_indexer,col_indexer] = value instead\n",
      "\n",
      "See the caveats in the documentation: https://pandas.pydata.org/pandas-docs/stable/user_guide/indexing.html#returning-a-view-versus-a-copy\n",
      "  df[\"Catégorie profil\"] = np.where(df[\"Profil\"].str.contains(\"RES\"), \"RES\", \"PRO\")\n",
      "C:\\Users\\lauri\\AppData\\Local\\Temp\\ipykernel_29092\\993967102.py:12: SettingWithCopyWarning: \n",
      "A value is trying to be set on a copy of a slice from a DataFrame.\n",
      "Try using .loc[row_indexer,col_indexer] = value instead\n",
      "\n",
      "See the caveats in the documentation: https://pandas.pydata.org/pandas-docs/stable/user_guide/indexing.html#returning-a-view-versus-a-copy\n",
      "  df[\"Total énergie soutirée (MWh)\"] = df[\"Total énergie soutirée (Wh)\"] / 1000000\n"
     ]
    }
   ],
   "source": [
    "df4 = traitement_dataset(df4)"
   ]
  },
  {
   "cell_type": "code",
   "execution_count": 13,
   "metadata": {},
   "outputs": [],
   "source": [
    "# concatenate the 4 df\n",
    "df = pd.concat([df1, df2, df3, df4])"
   ]
  },
  {
   "cell_type": "code",
   "execution_count": 14,
   "metadata": {},
   "outputs": [
    {
     "data": {
      "text/plain": [
       "(47398798, 11)"
      ]
     },
     "execution_count": 14,
     "metadata": {},
     "output_type": "execute_result"
    }
   ],
   "source": [
    "df.shape"
   ]
  },
  {
   "cell_type": "code",
   "execution_count": 15,
   "metadata": {},
   "outputs": [
    {
     "data": {
      "text/html": [
       "<div>\n",
       "<style scoped>\n",
       "    .dataframe tbody tr th:only-of-type {\n",
       "        vertical-align: middle;\n",
       "    }\n",
       "\n",
       "    .dataframe tbody tr th {\n",
       "        vertical-align: top;\n",
       "    }\n",
       "\n",
       "    .dataframe thead th {\n",
       "        text-align: right;\n",
       "    }\n",
       "</style>\n",
       "<table border=\"1\" class=\"dataframe\">\n",
       "  <thead>\n",
       "    <tr style=\"text-align: right;\">\n",
       "      <th></th>\n",
       "      <th>Horodate</th>\n",
       "      <th>Région</th>\n",
       "      <th>Profil</th>\n",
       "      <th>Plage de puissance souscrite</th>\n",
       "      <th>Nb points soutirage</th>\n",
       "      <th>Total énergie soutirée (Wh)</th>\n",
       "      <th>Year</th>\n",
       "      <th>Month</th>\n",
       "      <th>Date</th>\n",
       "      <th>Catégorie profil</th>\n",
       "      <th>Total énergie soutirée (MWh)</th>\n",
       "    </tr>\n",
       "  </thead>\n",
       "  <tbody>\n",
       "    <tr>\n",
       "      <th>0</th>\n",
       "      <td>2022-09-30T23:30:00+02:00</td>\n",
       "      <td>Auvergne-Rhône-Alpes</td>\n",
       "      <td>ENT3 (+ ENT4 + ENT5)</td>\n",
       "      <td>P0: Total &lt;= 36 kVA</td>\n",
       "      <td>1376</td>\n",
       "      <td>2095739.0</td>\n",
       "      <td>2022</td>\n",
       "      <td>09</td>\n",
       "      <td>2022-09-30</td>\n",
       "      <td>PRO</td>\n",
       "      <td>2.095739</td>\n",
       "    </tr>\n",
       "    <tr>\n",
       "      <th>1</th>\n",
       "      <td>2022-09-30T23:30:00+02:00</td>\n",
       "      <td>Auvergne-Rhône-Alpes</td>\n",
       "      <td>PRO1 (+ PRO1WE)</td>\n",
       "      <td>P4: ]9-12] kVA</td>\n",
       "      <td>52691</td>\n",
       "      <td>12376840.0</td>\n",
       "      <td>2022</td>\n",
       "      <td>09</td>\n",
       "      <td>2022-09-30</td>\n",
       "      <td>PRO</td>\n",
       "      <td>12.376840</td>\n",
       "    </tr>\n",
       "    <tr>\n",
       "      <th>2</th>\n",
       "      <td>2022-09-30T23:30:00+02:00</td>\n",
       "      <td>Auvergne-Rhône-Alpes</td>\n",
       "      <td>PRO1 (+ PRO1WE)</td>\n",
       "      <td>P8: ]24-30] kVA</td>\n",
       "      <td>8350</td>\n",
       "      <td>6545703.0</td>\n",
       "      <td>2022</td>\n",
       "      <td>09</td>\n",
       "      <td>2022-09-30</td>\n",
       "      <td>PRO</td>\n",
       "      <td>6.545703</td>\n",
       "    </tr>\n",
       "    <tr>\n",
       "      <th>3</th>\n",
       "      <td>2022-09-30T23:30:00+02:00</td>\n",
       "      <td>Auvergne-Rhône-Alpes</td>\n",
       "      <td>PRO2 (+ PRO2WE + PRO6)</td>\n",
       "      <td>P3: ]6-9] kVA</td>\n",
       "      <td>19759</td>\n",
       "      <td>7072016.0</td>\n",
       "      <td>2022</td>\n",
       "      <td>09</td>\n",
       "      <td>2022-09-30</td>\n",
       "      <td>PRO</td>\n",
       "      <td>7.072016</td>\n",
       "    </tr>\n",
       "    <tr>\n",
       "      <th>4</th>\n",
       "      <td>2022-09-30T23:30:00+02:00</td>\n",
       "      <td>Auvergne-Rhône-Alpes</td>\n",
       "      <td>PRO5</td>\n",
       "      <td>P1: ]0-3] kVA</td>\n",
       "      <td>55645</td>\n",
       "      <td>18921676.0</td>\n",
       "      <td>2022</td>\n",
       "      <td>09</td>\n",
       "      <td>2022-09-30</td>\n",
       "      <td>PRO</td>\n",
       "      <td>18.921676</td>\n",
       "    </tr>\n",
       "  </tbody>\n",
       "</table>\n",
       "</div>"
      ],
      "text/plain": [
       "                    Horodate                Région                  Profil  \\\n",
       "0  2022-09-30T23:30:00+02:00  Auvergne-Rhône-Alpes    ENT3 (+ ENT4 + ENT5)   \n",
       "1  2022-09-30T23:30:00+02:00  Auvergne-Rhône-Alpes         PRO1 (+ PRO1WE)   \n",
       "2  2022-09-30T23:30:00+02:00  Auvergne-Rhône-Alpes         PRO1 (+ PRO1WE)   \n",
       "3  2022-09-30T23:30:00+02:00  Auvergne-Rhône-Alpes  PRO2 (+ PRO2WE + PRO6)   \n",
       "4  2022-09-30T23:30:00+02:00  Auvergne-Rhône-Alpes                    PRO5   \n",
       "\n",
       "  Plage de puissance souscrite  Nb points soutirage  \\\n",
       "0          P0: Total <= 36 kVA                 1376   \n",
       "1               P4: ]9-12] kVA                52691   \n",
       "2              P8: ]24-30] kVA                 8350   \n",
       "3                P3: ]6-9] kVA                19759   \n",
       "4                P1: ]0-3] kVA                55645   \n",
       "\n",
       "   Total énergie soutirée (Wh)  Year Month       Date Catégorie profil  \\\n",
       "0                    2095739.0  2022    09 2022-09-30              PRO   \n",
       "1                   12376840.0  2022    09 2022-09-30              PRO   \n",
       "2                    6545703.0  2022    09 2022-09-30              PRO   \n",
       "3                    7072016.0  2022    09 2022-09-30              PRO   \n",
       "4                   18921676.0  2022    09 2022-09-30              PRO   \n",
       "\n",
       "   Total énergie soutirée (MWh)  \n",
       "0                      2.095739  \n",
       "1                     12.376840  \n",
       "2                      6.545703  \n",
       "3                      7.072016  \n",
       "4                     18.921676  "
      ]
     },
     "execution_count": 15,
     "metadata": {},
     "output_type": "execute_result"
    }
   ],
   "source": [
    "df.head()"
   ]
  },
  {
   "cell_type": "code",
   "execution_count": 19,
   "metadata": {},
   "outputs": [
    {
     "data": {
      "text/html": [
       "<div>\n",
       "<style scoped>\n",
       "    .dataframe tbody tr th:only-of-type {\n",
       "        vertical-align: middle;\n",
       "    }\n",
       "\n",
       "    .dataframe tbody tr th {\n",
       "        vertical-align: top;\n",
       "    }\n",
       "\n",
       "    .dataframe thead th {\n",
       "        text-align: right;\n",
       "    }\n",
       "</style>\n",
       "<table border=\"1\" class=\"dataframe\">\n",
       "  <thead>\n",
       "    <tr style=\"text-align: right;\">\n",
       "      <th></th>\n",
       "      <th>Horodate</th>\n",
       "      <th>Région</th>\n",
       "      <th>Profil</th>\n",
       "      <th>Plage de puissance souscrite</th>\n",
       "      <th>Nb points soutirage</th>\n",
       "      <th>Total énergie soutirée (Wh)</th>\n",
       "      <th>Year</th>\n",
       "      <th>Month</th>\n",
       "      <th>Date</th>\n",
       "      <th>Catégorie profil</th>\n",
       "      <th>Total énergie soutirée (MWh)</th>\n",
       "    </tr>\n",
       "  </thead>\n",
       "  <tbody>\n",
       "    <tr>\n",
       "      <th>17286907</th>\n",
       "      <td>2020-01-01T00:00:00+01:00</td>\n",
       "      <td>Provence-Alpes-Côte d'Azur</td>\n",
       "      <td>RES2 (+ RES5)</td>\n",
       "      <td>P0: Total &lt;= 36 kVA</td>\n",
       "      <td>1513821</td>\n",
       "      <td>1.221515e+09</td>\n",
       "      <td>2020</td>\n",
       "      <td>01</td>\n",
       "      <td>2020-01-01</td>\n",
       "      <td>RES</td>\n",
       "      <td>1221.515264</td>\n",
       "    </tr>\n",
       "    <tr>\n",
       "      <th>17286908</th>\n",
       "      <td>2020-01-01T00:00:00+01:00</td>\n",
       "      <td>Provence-Alpes-Côte d'Azur</td>\n",
       "      <td>RES2 (+ RES5)</td>\n",
       "      <td>P1: ]0-6] kVA</td>\n",
       "      <td>736282</td>\n",
       "      <td>3.826370e+08</td>\n",
       "      <td>2020</td>\n",
       "      <td>01</td>\n",
       "      <td>2020-01-01</td>\n",
       "      <td>RES</td>\n",
       "      <td>382.637045</td>\n",
       "    </tr>\n",
       "    <tr>\n",
       "      <th>17286909</th>\n",
       "      <td>2020-01-01T00:00:00+01:00</td>\n",
       "      <td>Provence-Alpes-Côte d'Azur</td>\n",
       "      <td>RES3</td>\n",
       "      <td>P1: ]0-9] kVA</td>\n",
       "      <td>20446</td>\n",
       "      <td>1.720340e+07</td>\n",
       "      <td>2020</td>\n",
       "      <td>01</td>\n",
       "      <td>2020-01-01</td>\n",
       "      <td>RES</td>\n",
       "      <td>17.203403</td>\n",
       "    </tr>\n",
       "    <tr>\n",
       "      <th>17286910</th>\n",
       "      <td>2020-01-01T00:00:00+01:00</td>\n",
       "      <td>Provence-Alpes-Côte d'Azur</td>\n",
       "      <td>RES3</td>\n",
       "      <td>P4: ]9-12] kVA</td>\n",
       "      <td>5884</td>\n",
       "      <td>6.822796e+06</td>\n",
       "      <td>2020</td>\n",
       "      <td>01</td>\n",
       "      <td>2020-01-01</td>\n",
       "      <td>RES</td>\n",
       "      <td>6.822796</td>\n",
       "    </tr>\n",
       "    <tr>\n",
       "      <th>17286911</th>\n",
       "      <td>2020-01-01T00:00:00+01:00</td>\n",
       "      <td>Provence-Alpes-Côte d'Azur</td>\n",
       "      <td>RES4</td>\n",
       "      <td>P7: ]18-36] kVA</td>\n",
       "      <td>775</td>\n",
       "      <td>1.130437e+06</td>\n",
       "      <td>2020</td>\n",
       "      <td>01</td>\n",
       "      <td>2020-01-01</td>\n",
       "      <td>RES</td>\n",
       "      <td>1.130437</td>\n",
       "    </tr>\n",
       "  </tbody>\n",
       "</table>\n",
       "</div>"
      ],
      "text/plain": [
       "                           Horodate                      Région  \\\n",
       "17286907  2020-01-01T00:00:00+01:00  Provence-Alpes-Côte d'Azur   \n",
       "17286908  2020-01-01T00:00:00+01:00  Provence-Alpes-Côte d'Azur   \n",
       "17286909  2020-01-01T00:00:00+01:00  Provence-Alpes-Côte d'Azur   \n",
       "17286910  2020-01-01T00:00:00+01:00  Provence-Alpes-Côte d'Azur   \n",
       "17286911  2020-01-01T00:00:00+01:00  Provence-Alpes-Côte d'Azur   \n",
       "\n",
       "                 Profil Plage de puissance souscrite  Nb points soutirage  \\\n",
       "17286907  RES2 (+ RES5)          P0: Total <= 36 kVA              1513821   \n",
       "17286908  RES2 (+ RES5)                P1: ]0-6] kVA               736282   \n",
       "17286909           RES3                P1: ]0-9] kVA                20446   \n",
       "17286910           RES3               P4: ]9-12] kVA                 5884   \n",
       "17286911           RES4              P7: ]18-36] kVA                  775   \n",
       "\n",
       "          Total énergie soutirée (Wh)  Year Month       Date Catégorie profil  \\\n",
       "17286907                 1.221515e+09  2020    01 2020-01-01              RES   \n",
       "17286908                 3.826370e+08  2020    01 2020-01-01              RES   \n",
       "17286909                 1.720340e+07  2020    01 2020-01-01              RES   \n",
       "17286910                 6.822796e+06  2020    01 2020-01-01              RES   \n",
       "17286911                 1.130437e+06  2020    01 2020-01-01              RES   \n",
       "\n",
       "          Total énergie soutirée (MWh)  \n",
       "17286907                   1221.515264  \n",
       "17286908                    382.637045  \n",
       "17286909                     17.203403  \n",
       "17286910                      6.822796  \n",
       "17286911                      1.130437  "
      ]
     },
     "execution_count": 19,
     "metadata": {},
     "output_type": "execute_result"
    }
   ],
   "source": [
    "df.tail()"
   ]
  },
  {
   "cell_type": "code",
   "execution_count": 18,
   "metadata": {},
   "outputs": [],
   "source": [
    "# write to csv df1, df2, df3, df4\n",
    "df1.to_csv(\"conso-inf36-region-clean1.csv\", sep=\";\", index=False)\n",
    "df2.to_csv(\"conso-inf36-region-clean2.csv\", sep=\";\", index=False)\n",
    "df3.to_csv(\"conso-inf36-region-clean3.csv\", sep=\";\", index=False)\n",
    "df4.to_csv(\"conso-inf36-region-clean4.csv\", sep=\";\", index=False)"
   ]
  },
  {
   "cell_type": "code",
   "execution_count": 17,
   "metadata": {},
   "outputs": [],
   "source": [
    "# write df in csv\n",
    "df.to_csv(\"conso-inf36-region-clean.csv\", sep=\";\", index=False)"
   ]
  },
  {
   "attachments": {},
   "cell_type": "markdown",
   "metadata": {},
   "source": [
    "# Découpage en datasets par région "
   ]
  },
  {
   "cell_type": "code",
   "execution_count": 20,
   "metadata": {},
   "outputs": [],
   "source": [
    "# create a dataset for each region\n",
    "for region in df[\"Région\"].unique():\n",
    "    df_region = df[df[\"Région\"] == region]\n",
    "    df_region.to_csv(\"regions_datasets\\conso-inf36-{}.csv\".format(region), index=False)\n"
   ]
  },
  {
   "attachments": {},
   "cell_type": "markdown",
   "metadata": {},
   "source": [
    "# Aggrégation par jour "
   ]
  },
  {
   "cell_type": "code",
   "execution_count": 3,
   "metadata": {},
   "outputs": [],
   "source": [
    "\n",
    "regions = [\"Auvergne-Rhône-Alpes\", \"Bourgogne-Franche-Comté\", \"Bretagne\", \"Centre-Val de Loire\", \"Grand-Est\", \"Hauts-de-France\", \"Île-de-France\", \"Normandie\", \"Nouvelle Aquitaine\", \"Occitanie\", \"Pays de la Loire\", \"Provence-Alpes-Côte d'Azur\"]"
   ]
  },
  {
   "cell_type": "code",
   "execution_count": 24,
   "metadata": {},
   "outputs": [],
   "source": [
    "# create a function to aggregate per day and per region\n",
    "def aggregate_per_day(file_name):\n",
    "    df = pd.read_csv(file_name)\n",
    "    df = df.groupby([\"Date\", \"Catégorie profil\"]).agg({\"Total énergie soutirée (MWh)\": \"sum\", \"Nb points soutirage\" : \"sum\"}).reset_index()\n",
    "    # write to csv file\n",
    "    df.to_csv(\"regions_datasets_agg\\conso-inf36-{}-agg.csv\".format(region), index=False)\n",
    "    return df"
   ]
  },
  {
   "cell_type": "code",
   "execution_count": 25,
   "metadata": {},
   "outputs": [],
   "source": [
    "for region in regions:\n",
    "    aggregate_per_day(\"regions_datasets\\conso-inf36-{}.csv\".format(region))"
   ]
  },
  {
   "cell_type": "code",
   "execution_count": 26,
   "metadata": {},
   "outputs": [],
   "source": [
    "# aggregate per day for all regions\n",
    "\n",
    "df_clean_agg_day = df.groupby([\"Date\", \"Catégorie profil\"]).agg({\"Total énergie soutirée (MWh)\": \"sum\", \"Nb points soutirage\" : \"sum\"}).reset_index()\n",
    "# write to csv file\n",
    "df_clean_agg_day.to_csv(\"conso-inf36-region-agg.csv\", index=False)\n"
   ]
  },
  {
   "cell_type": "code",
   "execution_count": 1,
   "metadata": {},
   "outputs": [],
   "source": [
    "def aggregate_per_month(file_name):\n",
    "    df = pd.read_csv(file_name)\n",
    "    df = df.groupby([\"Month\", \"Year\", \"Catégorie profil\"]).agg({\"Total énergie soutirée (MWh)\": \"sum\", \"Nb points soutirage\" : \"sum\"}).reset_index()\n",
    "    # write to csv file\n",
    "    df.to_csv(\"regions_datasets_agg\\conso-inf36-{}-agg-month.csv\".format(region), index=False)\n",
    "    return df"
   ]
  },
  {
   "cell_type": "code",
   "execution_count": 6,
   "metadata": {},
   "outputs": [],
   "source": [
    "for region in regions:\n",
    "    aggregate_per_month(\"regions_datasets\\conso-inf36-{}.csv\".format(region))"
   ]
  },
  {
   "cell_type": "code",
   "execution_count": 27,
   "metadata": {},
   "outputs": [],
   "source": [
    "# aggreate per month\n",
    "df_clean_agg_month = df.groupby([\"Year\", \"Month\", \"Catégorie profil\"]).agg({\"Total énergie soutirée (MWh)\": \"sum\", \"Nb points soutirage\" : \"sum\"}).reset_index()\n",
    "# write to csv file\n",
    "df_clean_agg_month.to_csv(\"conso-inf36-region-agg-month.csv\", index=False)"
   ]
  },
  {
   "attachments": {},
   "cell_type": "markdown",
   "metadata": {},
   "source": [
    "### Keep only some dates"
   ]
  },
  {
   "cell_type": "code",
   "execution_count": 28,
   "metadata": {},
   "outputs": [],
   "source": [
    "# conserver uniquement les données des dates suivantes : 01-15, 04-15, 07-15, 10-15 depuis horodate\n",
    "df_only_some_dates = df[df['Horodate'].str.contains('01-15|04-15|07-15|10-15')]"
   ]
  },
  {
   "cell_type": "code",
   "execution_count": 29,
   "metadata": {},
   "outputs": [
    {
     "name": "stderr",
     "output_type": "stream",
     "text": [
      "C:\\Users\\lauri\\AppData\\Local\\Temp\\ipykernel_29092\\4045550506.py:1: SettingWithCopyWarning: \n",
      "A value is trying to be set on a copy of a slice from a DataFrame.\n",
      "Try using .loc[row_indexer,col_indexer] = value instead\n",
      "\n",
      "See the caveats in the documentation: https://pandas.pydata.org/pandas-docs/stable/user_guide/indexing.html#returning-a-view-versus-a-copy\n",
      "  df_only_some_dates['Région'] = df_only_some_dates['Région'].replace('Nouvelle Aquitaine', 'Nouvelle-Aquitaine')\n",
      "C:\\Users\\lauri\\AppData\\Local\\Temp\\ipykernel_29092\\4045550506.py:2: SettingWithCopyWarning: \n",
      "A value is trying to be set on a copy of a slice from a DataFrame.\n",
      "Try using .loc[row_indexer,col_indexer] = value instead\n",
      "\n",
      "See the caveats in the documentation: https://pandas.pydata.org/pandas-docs/stable/user_guide/indexing.html#returning-a-view-versus-a-copy\n",
      "  df_only_some_dates['Région'] = df_only_some_dates['Région'].replace('Grand-Est', 'Grand Est')\n"
     ]
    }
   ],
   "source": [
    "df_only_some_dates['Région'] = df_only_some_dates['Région'].replace('Nouvelle Aquitaine', 'Nouvelle-Aquitaine')\n",
    "df_only_some_dates['Région'] = df_only_some_dates['Région'].replace('Grand-Est', 'Grand Est')"
   ]
  },
  {
   "cell_type": "code",
   "execution_count": null,
   "metadata": {},
   "outputs": [],
   "source": [
    "# add a Time column\n"
   ]
  },
  {
   "cell_type": "code",
   "execution_count": 30,
   "metadata": {},
   "outputs": [],
   "source": [
    "df_only_some_dates.to_csv('conso-inf36-region-only-some-dates.csv',  index=False)"
   ]
  },
  {
   "cell_type": "code",
   "execution_count": null,
   "metadata": {},
   "outputs": [],
   "source": []
  }
 ],
 "metadata": {
  "kernelspec": {
   "display_name": "base",
   "language": "python",
   "name": "python3"
  },
  "language_info": {
   "codemirror_mode": {
    "name": "ipython",
    "version": 3
   },
   "file_extension": ".py",
   "mimetype": "text/x-python",
   "name": "python",
   "nbconvert_exporter": "python",
   "pygments_lexer": "ipython3",
   "version": "3.9.13"
  },
  "orig_nbformat": 4,
  "vscode": {
   "interpreter": {
    "hash": "7fa34090cb7af4223176c3ba8ae08a175f6370c1b6c642f4e551f736b02987b0"
   }
  }
 },
 "nbformat": 4,
 "nbformat_minor": 2
}
