{
 "cells": [
  {
   "cell_type": "code",
   "execution_count": 2,
   "metadata": {},
   "outputs": [],
   "source": [
    "import pandas as pd\n",
    "import numpy as np"
   ]
  },
  {
   "cell_type": "code",
   "execution_count": null,
   "metadata": {},
   "outputs": [],
   "source": [
    "# colorpalet : \n",
    "# color 1 : Hex: #588061, RGB: (88, 128, 97)\n",
    "# color 2 : Hex: #869F77, RGB: (134, 159, 119)\n",
    "# color 3 : Hex: #FDE9EA, RGB: (253, 233, 234)\n",
    "# color 4 : Hex: #F9E0DB, RGB: (249, 224, 219)\n",
    "# color 5 : Hex: #E7B5AC, RGB: (231, 181, 172)"
   ]
  },
  {
   "cell_type": "code",
   "execution_count": 3,
   "metadata": {},
   "outputs": [],
   "source": [
    "# load dataset from csv file into pandas dataframe\n",
    "idf2020 = pd.read_csv('datasets\\idf2020.csv', sep=';')"
   ]
  },
  {
   "cell_type": "code",
   "execution_count": 4,
   "metadata": {},
   "outputs": [
    {
     "data": {
      "text/html": [
       "<div>\n",
       "<style scoped>\n",
       "    .dataframe tbody tr th:only-of-type {\n",
       "        vertical-align: middle;\n",
       "    }\n",
       "\n",
       "    .dataframe tbody tr th {\n",
       "        vertical-align: top;\n",
       "    }\n",
       "\n",
       "    .dataframe thead th {\n",
       "        text-align: right;\n",
       "    }\n",
       "</style>\n",
       "<table border=\"1\" class=\"dataframe\">\n",
       "  <thead>\n",
       "    <tr style=\"text-align: right;\">\n",
       "      <th></th>\n",
       "      <th>Horodate</th>\n",
       "      <th>Région</th>\n",
       "      <th>Code région</th>\n",
       "      <th>Profil</th>\n",
       "      <th>Plage de puissance souscrite</th>\n",
       "      <th>Nb points soutirage</th>\n",
       "      <th>Total énergie soutirée (Wh)</th>\n",
       "      <th>Courbe Moyenne n°1 (Wh)</th>\n",
       "      <th>Indice représentativité Courbe n°1 (%)</th>\n",
       "      <th>Courbe Moyenne n°2 (Wh)</th>\n",
       "      <th>Indice représentativité Courbe n°2 (%)</th>\n",
       "      <th>Courbe Moyenne n°1 + n°2 (Wh)</th>\n",
       "      <th>Indice représentativité Courbe n°1 + n°2 (%)</th>\n",
       "      <th>Jour max du mois (0/1)</th>\n",
       "      <th>Semaine max du mois (0/1)</th>\n",
       "    </tr>\n",
       "  </thead>\n",
       "  <tbody>\n",
       "    <tr>\n",
       "      <th>0</th>\n",
       "      <td>2020-12-31T23:30:00+01:00</td>\n",
       "      <td>Île-de-France</td>\n",
       "      <td>11</td>\n",
       "      <td>PRO1 (+ PRO1WE)</td>\n",
       "      <td>P0: Total &lt;= 36 kVA</td>\n",
       "      <td>599509</td>\n",
       "      <td>265804753.0</td>\n",
       "      <td>589.0</td>\n",
       "      <td>0</td>\n",
       "      <td>451.0</td>\n",
       "      <td>0</td>\n",
       "      <td>519.0</td>\n",
       "      <td>0</td>\n",
       "      <td>0</td>\n",
       "      <td>0</td>\n",
       "    </tr>\n",
       "    <tr>\n",
       "      <th>1</th>\n",
       "      <td>2020-12-31T23:30:00+01:00</td>\n",
       "      <td>Île-de-France</td>\n",
       "      <td>11</td>\n",
       "      <td>PRO3</td>\n",
       "      <td>P1: ]0-9] kVA</td>\n",
       "      <td>693</td>\n",
       "      <td>531253.0</td>\n",
       "      <td>NaN</td>\n",
       "      <td>S</td>\n",
       "      <td>NaN</td>\n",
       "      <td>S</td>\n",
       "      <td>906.0</td>\n",
       "      <td>0</td>\n",
       "      <td>0</td>\n",
       "      <td>0</td>\n",
       "    </tr>\n",
       "    <tr>\n",
       "      <th>2</th>\n",
       "      <td>2020-12-31T23:30:00+01:00</td>\n",
       "      <td>Île-de-France</td>\n",
       "      <td>11</td>\n",
       "      <td>PRO3</td>\n",
       "      <td>P4: ]9-12] kVA</td>\n",
       "      <td>951</td>\n",
       "      <td>NaN</td>\n",
       "      <td>NaN</td>\n",
       "      <td>S</td>\n",
       "      <td>NaN</td>\n",
       "      <td>S</td>\n",
       "      <td>NaN</td>\n",
       "      <td>S</td>\n",
       "      <td>0</td>\n",
       "      <td>0</td>\n",
       "    </tr>\n",
       "    <tr>\n",
       "      <th>3</th>\n",
       "      <td>2020-12-31T23:30:00+01:00</td>\n",
       "      <td>Île-de-France</td>\n",
       "      <td>11</td>\n",
       "      <td>RES1 (+ RES1WE)</td>\n",
       "      <td>P0: Total &lt;= 36 kVA</td>\n",
       "      <td>3393732</td>\n",
       "      <td>569277982.0</td>\n",
       "      <td>192.0</td>\n",
       "      <td>0</td>\n",
       "      <td>134.0</td>\n",
       "      <td>0</td>\n",
       "      <td>161.0</td>\n",
       "      <td>0</td>\n",
       "      <td>0</td>\n",
       "      <td>0</td>\n",
       "    </tr>\n",
       "    <tr>\n",
       "      <th>4</th>\n",
       "      <td>2020-12-31T23:30:00+01:00</td>\n",
       "      <td>Île-de-France</td>\n",
       "      <td>11</td>\n",
       "      <td>RES2 (+ RES5)</td>\n",
       "      <td>P7: ]18-24] kVA</td>\n",
       "      <td>6406</td>\n",
       "      <td>16800256.0</td>\n",
       "      <td>2385.0</td>\n",
       "      <td>0</td>\n",
       "      <td>2422.0</td>\n",
       "      <td>0</td>\n",
       "      <td>2405.0</td>\n",
       "      <td>0</td>\n",
       "      <td>0</td>\n",
       "      <td>0</td>\n",
       "    </tr>\n",
       "  </tbody>\n",
       "</table>\n",
       "</div>"
      ],
      "text/plain": [
       "                    Horodate         Région  Code région           Profil  \\\n",
       "0  2020-12-31T23:30:00+01:00  Île-de-France           11  PRO1 (+ PRO1WE)   \n",
       "1  2020-12-31T23:30:00+01:00  Île-de-France           11             PRO3   \n",
       "2  2020-12-31T23:30:00+01:00  Île-de-France           11             PRO3   \n",
       "3  2020-12-31T23:30:00+01:00  Île-de-France           11  RES1 (+ RES1WE)   \n",
       "4  2020-12-31T23:30:00+01:00  Île-de-France           11    RES2 (+ RES5)   \n",
       "\n",
       "  Plage de puissance souscrite  Nb points soutirage  \\\n",
       "0          P0: Total <= 36 kVA               599509   \n",
       "1                P1: ]0-9] kVA                  693   \n",
       "2               P4: ]9-12] kVA                  951   \n",
       "3          P0: Total <= 36 kVA              3393732   \n",
       "4              P7: ]18-24] kVA                 6406   \n",
       "\n",
       "   Total énergie soutirée (Wh)  Courbe Moyenne n°1 (Wh)  \\\n",
       "0                  265804753.0                    589.0   \n",
       "1                     531253.0                      NaN   \n",
       "2                          NaN                      NaN   \n",
       "3                  569277982.0                    192.0   \n",
       "4                   16800256.0                   2385.0   \n",
       "\n",
       "  Indice représentativité Courbe n°1 (%)  Courbe Moyenne n°2 (Wh)  \\\n",
       "0                                      0                    451.0   \n",
       "1                                      S                      NaN   \n",
       "2                                      S                      NaN   \n",
       "3                                      0                    134.0   \n",
       "4                                      0                   2422.0   \n",
       "\n",
       "  Indice représentativité Courbe n°2 (%)  Courbe Moyenne n°1 + n°2 (Wh)  \\\n",
       "0                                      0                          519.0   \n",
       "1                                      S                          906.0   \n",
       "2                                      S                            NaN   \n",
       "3                                      0                          161.0   \n",
       "4                                      0                         2405.0   \n",
       "\n",
       "  Indice représentativité Courbe n°1 + n°2 (%)  Jour max du mois (0/1)  \\\n",
       "0                                            0                       0   \n",
       "1                                            0                       0   \n",
       "2                                            S                       0   \n",
       "3                                            0                       0   \n",
       "4                                            0                       0   \n",
       "\n",
       "   Semaine max du mois (0/1)  \n",
       "0                          0  \n",
       "1                          0  \n",
       "2                          0  \n",
       "3                          0  \n",
       "4                          0  "
      ]
     },
     "execution_count": 4,
     "metadata": {},
     "output_type": "execute_result"
    }
   ],
   "source": [
    "idf2020.head()"
   ]
  },
  {
   "cell_type": "code",
   "execution_count": 5,
   "metadata": {},
   "outputs": [],
   "source": [
    "# keep only the columns we need\n",
    "idf2020 = idf2020[[\"Horodate\", \"Région\", \"Code région\", \"Profil\", \"Plage de puissance souscrite\", \"Nb points soutirage\", \"Total énergie soutirée (Wh)\"]]"
   ]
  },
  {
   "cell_type": "code",
   "execution_count": 6,
   "metadata": {},
   "outputs": [],
   "source": [
    "# split horodate into year, month, day, hour, minute, second\n",
    "idf2020[\"year\"] = idf2020[\"Horodate\"].str.split(\"-\", expand=True)[0]\n",
    "idf2020[\"month\"] = idf2020[\"Horodate\"].str.split(\"-\", expand=True)[1]\n"
   ]
  },
  {
   "cell_type": "code",
   "execution_count": 7,
   "metadata": {},
   "outputs": [],
   "source": [
    "\n",
    "idf2020[\"day\"] = idf2020[\"Horodate\"].str.split(\"-\", expand=True)[2].str.split(\"T\", expand=True)[0]"
   ]
  },
  {
   "cell_type": "code",
   "execution_count": 8,
   "metadata": {},
   "outputs": [],
   "source": [
    "# extract time from horodate\n",
    "idf2020[\"time\"] = idf2020[\"Horodate\"].str.split(\"-\", expand=True)[2].str.split(\"T\", expand=True)[1].str.split(\"+\", expand=True)[0]"
   ]
  },
  {
   "cell_type": "code",
   "execution_count": 9,
   "metadata": {},
   "outputs": [],
   "source": [
    "# extract date from horodate\n",
    "idf2020[\"date\"] = idf2020[\"Horodate\"].str.split(\"T\", expand=True)[0]"
   ]
  },
  {
   "cell_type": "code",
   "execution_count": 10,
   "metadata": {},
   "outputs": [],
   "source": [
    "#transform date into datetime\n",
    "idf2020[\"date\"] = pd.to_datetime(idf2020[\"date\"])"
   ]
  },
  {
   "cell_type": "code",
   "execution_count": 11,
   "metadata": {},
   "outputs": [],
   "source": [
    "# create categories of profiles : RES, PRO, ENT if match with the string in the column\n",
    "idf2020[\"Catégorie profil\"] = np.where(idf2020[\"Profil\"].str.contains(\"RES\"), \"RES\", idf2020[\"Profil\"])\n",
    "idf2020[\"Catégorie profil\"] = np.where(idf2020[\"Profil\"].str.contains(\"PRO\"), \"PRO\", idf2020[\"Catégorie profil\"])\n",
    "idf2020[\"Catégorie profil\"] = np.where(idf2020[\"Profil\"].str.contains(\"ENT\"), \"ENT\", idf2020[\"Catégorie profil\"])\n"
   ]
  },
  {
   "cell_type": "code",
   "execution_count": 12,
   "metadata": {},
   "outputs": [
    {
     "data": {
      "text/html": [
       "<div>\n",
       "<style scoped>\n",
       "    .dataframe tbody tr th:only-of-type {\n",
       "        vertical-align: middle;\n",
       "    }\n",
       "\n",
       "    .dataframe tbody tr th {\n",
       "        vertical-align: top;\n",
       "    }\n",
       "\n",
       "    .dataframe thead th {\n",
       "        text-align: right;\n",
       "    }\n",
       "</style>\n",
       "<table border=\"1\" class=\"dataframe\">\n",
       "  <thead>\n",
       "    <tr style=\"text-align: right;\">\n",
       "      <th></th>\n",
       "      <th>Horodate</th>\n",
       "      <th>Région</th>\n",
       "      <th>Code région</th>\n",
       "      <th>Profil</th>\n",
       "      <th>Plage de puissance souscrite</th>\n",
       "      <th>Nb points soutirage</th>\n",
       "      <th>Total énergie soutirée (Wh)</th>\n",
       "      <th>year</th>\n",
       "      <th>month</th>\n",
       "      <th>day</th>\n",
       "      <th>time</th>\n",
       "      <th>date</th>\n",
       "      <th>Catégorie profil</th>\n",
       "    </tr>\n",
       "  </thead>\n",
       "  <tbody>\n",
       "    <tr>\n",
       "      <th>0</th>\n",
       "      <td>2020-12-31T23:30:00+01:00</td>\n",
       "      <td>Île-de-France</td>\n",
       "      <td>11</td>\n",
       "      <td>PRO1 (+ PRO1WE)</td>\n",
       "      <td>P0: Total &lt;= 36 kVA</td>\n",
       "      <td>599509</td>\n",
       "      <td>265804753.0</td>\n",
       "      <td>2020</td>\n",
       "      <td>12</td>\n",
       "      <td>31</td>\n",
       "      <td>23:30:00</td>\n",
       "      <td>2020-12-31</td>\n",
       "      <td>PRO</td>\n",
       "    </tr>\n",
       "    <tr>\n",
       "      <th>1</th>\n",
       "      <td>2020-12-31T23:30:00+01:00</td>\n",
       "      <td>Île-de-France</td>\n",
       "      <td>11</td>\n",
       "      <td>PRO3</td>\n",
       "      <td>P1: ]0-9] kVA</td>\n",
       "      <td>693</td>\n",
       "      <td>531253.0</td>\n",
       "      <td>2020</td>\n",
       "      <td>12</td>\n",
       "      <td>31</td>\n",
       "      <td>23:30:00</td>\n",
       "      <td>2020-12-31</td>\n",
       "      <td>PRO</td>\n",
       "    </tr>\n",
       "    <tr>\n",
       "      <th>2</th>\n",
       "      <td>2020-12-31T23:30:00+01:00</td>\n",
       "      <td>Île-de-France</td>\n",
       "      <td>11</td>\n",
       "      <td>PRO3</td>\n",
       "      <td>P4: ]9-12] kVA</td>\n",
       "      <td>951</td>\n",
       "      <td>NaN</td>\n",
       "      <td>2020</td>\n",
       "      <td>12</td>\n",
       "      <td>31</td>\n",
       "      <td>23:30:00</td>\n",
       "      <td>2020-12-31</td>\n",
       "      <td>PRO</td>\n",
       "    </tr>\n",
       "    <tr>\n",
       "      <th>3</th>\n",
       "      <td>2020-12-31T23:30:00+01:00</td>\n",
       "      <td>Île-de-France</td>\n",
       "      <td>11</td>\n",
       "      <td>RES1 (+ RES1WE)</td>\n",
       "      <td>P0: Total &lt;= 36 kVA</td>\n",
       "      <td>3393732</td>\n",
       "      <td>569277982.0</td>\n",
       "      <td>2020</td>\n",
       "      <td>12</td>\n",
       "      <td>31</td>\n",
       "      <td>23:30:00</td>\n",
       "      <td>2020-12-31</td>\n",
       "      <td>RES</td>\n",
       "    </tr>\n",
       "    <tr>\n",
       "      <th>4</th>\n",
       "      <td>2020-12-31T23:30:00+01:00</td>\n",
       "      <td>Île-de-France</td>\n",
       "      <td>11</td>\n",
       "      <td>RES2 (+ RES5)</td>\n",
       "      <td>P7: ]18-24] kVA</td>\n",
       "      <td>6406</td>\n",
       "      <td>16800256.0</td>\n",
       "      <td>2020</td>\n",
       "      <td>12</td>\n",
       "      <td>31</td>\n",
       "      <td>23:30:00</td>\n",
       "      <td>2020-12-31</td>\n",
       "      <td>RES</td>\n",
       "    </tr>\n",
       "  </tbody>\n",
       "</table>\n",
       "</div>"
      ],
      "text/plain": [
       "                    Horodate         Région  Code région           Profil  \\\n",
       "0  2020-12-31T23:30:00+01:00  Île-de-France           11  PRO1 (+ PRO1WE)   \n",
       "1  2020-12-31T23:30:00+01:00  Île-de-France           11             PRO3   \n",
       "2  2020-12-31T23:30:00+01:00  Île-de-France           11             PRO3   \n",
       "3  2020-12-31T23:30:00+01:00  Île-de-France           11  RES1 (+ RES1WE)   \n",
       "4  2020-12-31T23:30:00+01:00  Île-de-France           11    RES2 (+ RES5)   \n",
       "\n",
       "  Plage de puissance souscrite  Nb points soutirage  \\\n",
       "0          P0: Total <= 36 kVA               599509   \n",
       "1                P1: ]0-9] kVA                  693   \n",
       "2               P4: ]9-12] kVA                  951   \n",
       "3          P0: Total <= 36 kVA              3393732   \n",
       "4              P7: ]18-24] kVA                 6406   \n",
       "\n",
       "   Total énergie soutirée (Wh)  year month day      time       date  \\\n",
       "0                  265804753.0  2020    12  31  23:30:00 2020-12-31   \n",
       "1                     531253.0  2020    12  31  23:30:00 2020-12-31   \n",
       "2                          NaN  2020    12  31  23:30:00 2020-12-31   \n",
       "3                  569277982.0  2020    12  31  23:30:00 2020-12-31   \n",
       "4                   16800256.0  2020    12  31  23:30:00 2020-12-31   \n",
       "\n",
       "  Catégorie profil  \n",
       "0              PRO  \n",
       "1              PRO  \n",
       "2              PRO  \n",
       "3              RES  \n",
       "4              RES  "
      ]
     },
     "execution_count": 12,
     "metadata": {},
     "output_type": "execute_result"
    }
   ],
   "source": [
    "idf2020.head()"
   ]
  },
  {
   "cell_type": "code",
   "execution_count": 43,
   "metadata": {},
   "outputs": [],
   "source": [
    "# write the dataframe into a csv file\n",
    "idf2020.to_csv('datasets\\idf2020_clean.csv', sep=';', index=False)"
   ]
  },
  {
   "cell_type": "code",
   "execution_count": 13,
   "metadata": {},
   "outputs": [],
   "source": [
    "agg_idf2020 = idf2020.groupby([\"date\", \"Catégorie profil\"]).agg({\"Total énergie soutirée (Wh)\": \"sum\", \"Nb points soutirage\": \"sum\"})"
   ]
  },
  {
   "cell_type": "code",
   "execution_count": 14,
   "metadata": {},
   "outputs": [
    {
     "data": {
      "text/html": [
       "<div>\n",
       "<style scoped>\n",
       "    .dataframe tbody tr th:only-of-type {\n",
       "        vertical-align: middle;\n",
       "    }\n",
       "\n",
       "    .dataframe tbody tr th {\n",
       "        vertical-align: top;\n",
       "    }\n",
       "\n",
       "    .dataframe thead th {\n",
       "        text-align: right;\n",
       "    }\n",
       "</style>\n",
       "<table border=\"1\" class=\"dataframe\">\n",
       "  <thead>\n",
       "    <tr style=\"text-align: right;\">\n",
       "      <th></th>\n",
       "      <th></th>\n",
       "      <th>Total énergie soutirée (Wh)</th>\n",
       "      <th>Nb points soutirage</th>\n",
       "    </tr>\n",
       "    <tr>\n",
       "      <th>date</th>\n",
       "      <th>Catégorie profil</th>\n",
       "      <th></th>\n",
       "      <th></th>\n",
       "    </tr>\n",
       "  </thead>\n",
       "  <tbody>\n",
       "    <tr>\n",
       "      <th rowspan=\"3\" valign=\"top\">2020-01-01</th>\n",
       "      <th>ENT</th>\n",
       "      <td>1.957390e+08</td>\n",
       "      <td>60816</td>\n",
       "    </tr>\n",
       "    <tr>\n",
       "      <th>PRO</th>\n",
       "      <td>4.254009e+10</td>\n",
       "      <td>71350512</td>\n",
       "    </tr>\n",
       "    <tr>\n",
       "      <th>RES</th>\n",
       "      <td>1.911168e+11</td>\n",
       "      <td>544170476</td>\n",
       "    </tr>\n",
       "    <tr>\n",
       "      <th rowspan=\"3\" valign=\"top\">2020-01-02</th>\n",
       "      <th>ENT</th>\n",
       "      <td>2.372535e+08</td>\n",
       "      <td>60816</td>\n",
       "    </tr>\n",
       "    <tr>\n",
       "      <th>PRO</th>\n",
       "      <td>5.057753e+10</td>\n",
       "      <td>71618448</td>\n",
       "    </tr>\n",
       "    <tr>\n",
       "      <th>RES</th>\n",
       "      <td>1.809140e+11</td>\n",
       "      <td>544197840</td>\n",
       "    </tr>\n",
       "    <tr>\n",
       "      <th rowspan=\"3\" valign=\"top\">2020-01-03</th>\n",
       "      <th>ENT</th>\n",
       "      <td>2.206963e+08</td>\n",
       "      <td>60768</td>\n",
       "    </tr>\n",
       "    <tr>\n",
       "      <th>PRO</th>\n",
       "      <td>4.996240e+10</td>\n",
       "      <td>71614704</td>\n",
       "    </tr>\n",
       "    <tr>\n",
       "      <th>RES</th>\n",
       "      <td>1.720147e+11</td>\n",
       "      <td>544229512</td>\n",
       "    </tr>\n",
       "    <tr>\n",
       "      <th rowspan=\"3\" valign=\"top\">2020-01-04</th>\n",
       "      <th>ENT</th>\n",
       "      <td>1.685940e+08</td>\n",
       "      <td>60768</td>\n",
       "    </tr>\n",
       "    <tr>\n",
       "      <th>PRO</th>\n",
       "      <td>4.553742e+10</td>\n",
       "      <td>71607696</td>\n",
       "    </tr>\n",
       "    <tr>\n",
       "      <th>RES</th>\n",
       "      <td>1.749522e+11</td>\n",
       "      <td>544216172</td>\n",
       "    </tr>\n",
       "    <tr>\n",
       "      <th rowspan=\"3\" valign=\"top\">2020-01-05</th>\n",
       "      <th>ENT</th>\n",
       "      <td>1.548045e+08</td>\n",
       "      <td>60768</td>\n",
       "    </tr>\n",
       "    <tr>\n",
       "      <th>PRO</th>\n",
       "      <td>4.163705e+10</td>\n",
       "      <td>71595120</td>\n",
       "    </tr>\n",
       "    <tr>\n",
       "      <th>RES</th>\n",
       "      <td>1.831320e+11</td>\n",
       "      <td>544206654</td>\n",
       "    </tr>\n",
       "    <tr>\n",
       "      <th rowspan=\"3\" valign=\"top\">2020-01-06</th>\n",
       "      <th>ENT</th>\n",
       "      <td>2.284543e+08</td>\n",
       "      <td>60768</td>\n",
       "    </tr>\n",
       "    <tr>\n",
       "      <th>PRO</th>\n",
       "      <td>5.284443e+10</td>\n",
       "      <td>71596944</td>\n",
       "    </tr>\n",
       "    <tr>\n",
       "      <th>RES</th>\n",
       "      <td>1.820325e+11</td>\n",
       "      <td>544245364</td>\n",
       "    </tr>\n",
       "    <tr>\n",
       "      <th rowspan=\"3\" valign=\"top\">2020-01-07</th>\n",
       "      <th>ENT</th>\n",
       "      <td>2.325023e+08</td>\n",
       "      <td>60720</td>\n",
       "    </tr>\n",
       "    <tr>\n",
       "      <th>PRO</th>\n",
       "      <td>5.301356e+10</td>\n",
       "      <td>71598480</td>\n",
       "    </tr>\n",
       "    <tr>\n",
       "      <th>RES</th>\n",
       "      <td>1.691910e+11</td>\n",
       "      <td>544268484</td>\n",
       "    </tr>\n",
       "    <tr>\n",
       "      <th rowspan=\"3\" valign=\"top\">2020-01-08</th>\n",
       "      <th>ENT</th>\n",
       "      <td>2.246341e+08</td>\n",
       "      <td>60720</td>\n",
       "    </tr>\n",
       "    <tr>\n",
       "      <th>PRO</th>\n",
       "      <td>4.950814e+10</td>\n",
       "      <td>71599152</td>\n",
       "    </tr>\n",
       "    <tr>\n",
       "      <th>RES</th>\n",
       "      <td>1.580963e+11</td>\n",
       "      <td>544302960</td>\n",
       "    </tr>\n",
       "    <tr>\n",
       "      <th rowspan=\"3\" valign=\"top\">2020-01-09</th>\n",
       "      <th>ENT</th>\n",
       "      <td>2.223810e+08</td>\n",
       "      <td>60720</td>\n",
       "    </tr>\n",
       "    <tr>\n",
       "      <th>PRO</th>\n",
       "      <td>4.934027e+10</td>\n",
       "      <td>71600112</td>\n",
       "    </tr>\n",
       "    <tr>\n",
       "      <th>RES</th>\n",
       "      <td>1.527470e+11</td>\n",
       "      <td>544338000</td>\n",
       "    </tr>\n",
       "    <tr>\n",
       "      <th rowspan=\"3\" valign=\"top\">2020-01-10</th>\n",
       "      <th>ENT</th>\n",
       "      <td>2.147355e+08</td>\n",
       "      <td>60624</td>\n",
       "    </tr>\n",
       "    <tr>\n",
       "      <th>PRO</th>\n",
       "      <td>5.028880e+10</td>\n",
       "      <td>71612112</td>\n",
       "    </tr>\n",
       "    <tr>\n",
       "      <th>RES</th>\n",
       "      <td>1.578680e+11</td>\n",
       "      <td>544392612</td>\n",
       "    </tr>\n",
       "  </tbody>\n",
       "</table>\n",
       "</div>"
      ],
      "text/plain": [
       "                             Total énergie soutirée (Wh)  Nb points soutirage\n",
       "date       Catégorie profil                                                  \n",
       "2020-01-01 ENT                              1.957390e+08                60816\n",
       "           PRO                              4.254009e+10             71350512\n",
       "           RES                              1.911168e+11            544170476\n",
       "2020-01-02 ENT                              2.372535e+08                60816\n",
       "           PRO                              5.057753e+10             71618448\n",
       "           RES                              1.809140e+11            544197840\n",
       "2020-01-03 ENT                              2.206963e+08                60768\n",
       "           PRO                              4.996240e+10             71614704\n",
       "           RES                              1.720147e+11            544229512\n",
       "2020-01-04 ENT                              1.685940e+08                60768\n",
       "           PRO                              4.553742e+10             71607696\n",
       "           RES                              1.749522e+11            544216172\n",
       "2020-01-05 ENT                              1.548045e+08                60768\n",
       "           PRO                              4.163705e+10             71595120\n",
       "           RES                              1.831320e+11            544206654\n",
       "2020-01-06 ENT                              2.284543e+08                60768\n",
       "           PRO                              5.284443e+10             71596944\n",
       "           RES                              1.820325e+11            544245364\n",
       "2020-01-07 ENT                              2.325023e+08                60720\n",
       "           PRO                              5.301356e+10             71598480\n",
       "           RES                              1.691910e+11            544268484\n",
       "2020-01-08 ENT                              2.246341e+08                60720\n",
       "           PRO                              4.950814e+10             71599152\n",
       "           RES                              1.580963e+11            544302960\n",
       "2020-01-09 ENT                              2.223810e+08                60720\n",
       "           PRO                              4.934027e+10             71600112\n",
       "           RES                              1.527470e+11            544338000\n",
       "2020-01-10 ENT                              2.147355e+08                60624\n",
       "           PRO                              5.028880e+10             71612112\n",
       "           RES                              1.578680e+11            544392612"
      ]
     },
     "execution_count": 14,
     "metadata": {},
     "output_type": "execute_result"
    }
   ],
   "source": [
    "agg_idf2020.head(30)"
   ]
  },
  {
   "cell_type": "code",
   "execution_count": 15,
   "metadata": {},
   "outputs": [],
   "source": [
    "# remove the aggregated columns\n",
    "agg_idf2020 = agg_idf2020.reset_index()"
   ]
  },
  {
   "cell_type": "code",
   "execution_count": 16,
   "metadata": {},
   "outputs": [
    {
     "data": {
      "text/html": [
       "<div>\n",
       "<style scoped>\n",
       "    .dataframe tbody tr th:only-of-type {\n",
       "        vertical-align: middle;\n",
       "    }\n",
       "\n",
       "    .dataframe tbody tr th {\n",
       "        vertical-align: top;\n",
       "    }\n",
       "\n",
       "    .dataframe thead th {\n",
       "        text-align: right;\n",
       "    }\n",
       "</style>\n",
       "<table border=\"1\" class=\"dataframe\">\n",
       "  <thead>\n",
       "    <tr style=\"text-align: right;\">\n",
       "      <th></th>\n",
       "      <th>date</th>\n",
       "      <th>Catégorie profil</th>\n",
       "      <th>Total énergie soutirée (Wh)</th>\n",
       "      <th>Nb points soutirage</th>\n",
       "    </tr>\n",
       "  </thead>\n",
       "  <tbody>\n",
       "    <tr>\n",
       "      <th>0</th>\n",
       "      <td>2020-01-01</td>\n",
       "      <td>ENT</td>\n",
       "      <td>1.957390e+08</td>\n",
       "      <td>60816</td>\n",
       "    </tr>\n",
       "    <tr>\n",
       "      <th>1</th>\n",
       "      <td>2020-01-01</td>\n",
       "      <td>PRO</td>\n",
       "      <td>4.254009e+10</td>\n",
       "      <td>71350512</td>\n",
       "    </tr>\n",
       "    <tr>\n",
       "      <th>2</th>\n",
       "      <td>2020-01-01</td>\n",
       "      <td>RES</td>\n",
       "      <td>1.911168e+11</td>\n",
       "      <td>544170476</td>\n",
       "    </tr>\n",
       "    <tr>\n",
       "      <th>3</th>\n",
       "      <td>2020-01-02</td>\n",
       "      <td>ENT</td>\n",
       "      <td>2.372535e+08</td>\n",
       "      <td>60816</td>\n",
       "    </tr>\n",
       "    <tr>\n",
       "      <th>4</th>\n",
       "      <td>2020-01-02</td>\n",
       "      <td>PRO</td>\n",
       "      <td>5.057753e+10</td>\n",
       "      <td>71618448</td>\n",
       "    </tr>\n",
       "  </tbody>\n",
       "</table>\n",
       "</div>"
      ],
      "text/plain": [
       "        date Catégorie profil  Total énergie soutirée (Wh)  \\\n",
       "0 2020-01-01              ENT                 1.957390e+08   \n",
       "1 2020-01-01              PRO                 4.254009e+10   \n",
       "2 2020-01-01              RES                 1.911168e+11   \n",
       "3 2020-01-02              ENT                 2.372535e+08   \n",
       "4 2020-01-02              PRO                 5.057753e+10   \n",
       "\n",
       "   Nb points soutirage  \n",
       "0                60816  \n",
       "1             71350512  \n",
       "2            544170476  \n",
       "3                60816  \n",
       "4             71618448  "
      ]
     },
     "execution_count": 16,
     "metadata": {},
     "output_type": "execute_result"
    }
   ],
   "source": [
    "agg_idf2020.head()"
   ]
  },
  {
   "cell_type": "code",
   "execution_count": 24,
   "metadata": {},
   "outputs": [],
   "source": [
    "# convert energy in MWh\n",
    "agg_idf2020[\"Total énergie soutirée (MWh)\"] = agg_idf2020[\"Total énergie soutirée (Wh)\"] / 1000000"
   ]
  },
  {
   "cell_type": "code",
   "execution_count": 25,
   "metadata": {},
   "outputs": [],
   "source": [
    "# save the dataframe to csv file\n",
    "agg_idf2020.to_csv(\"agg_datasets\\idf2020_agg.csv\", index=False)"
   ]
  },
  {
   "cell_type": "code",
   "execution_count": 18,
   "metadata": {},
   "outputs": [],
   "source": [
    "# use plotly express to create a line chart\n",
    "import plotly.express as px\n"
   ]
  },
  {
   "cell_type": "code",
   "execution_count": 19,
   "metadata": {},
   "outputs": [],
   "source": [
    "from plotly.subplots import make_subplots\n",
    "import plotly.graph_objects as go"
   ]
  },
  {
   "cell_type": "code",
   "execution_count": 29,
   "metadata": {},
   "outputs": [
    {
     "data": {
      "application/vnd.plotly.v1+json": {
       "config": {
        "plotlyServerURL": "https://plot.ly"
       },
       "data": [
        {
         "line": {
          "color": "rgb(88, 128, 97)"
         },
         "type": "scatter",
         "x": [
          "2020-01-01T00:00:00",
          "2020-01-02T00:00:00",
          "2020-01-03T00:00:00",
          "2020-01-04T00:00:00",
          "2020-01-05T00:00:00",
          "2020-01-06T00:00:00",
          "2020-01-07T00:00:00",
          "2020-01-08T00:00:00",
          "2020-01-09T00:00:00",
          "2020-01-10T00:00:00",
          "2020-01-11T00:00:00",
          "2020-01-12T00:00:00",
          "2020-01-13T00:00:00",
          "2020-01-14T00:00:00",
          "2020-01-15T00:00:00",
          "2020-01-16T00:00:00",
          "2020-01-17T00:00:00",
          "2020-01-18T00:00:00",
          "2020-01-19T00:00:00",
          "2020-01-20T00:00:00",
          "2020-01-21T00:00:00",
          "2020-01-22T00:00:00",
          "2020-01-23T00:00:00",
          "2020-01-24T00:00:00",
          "2020-01-25T00:00:00",
          "2020-01-26T00:00:00",
          "2020-01-27T00:00:00",
          "2020-01-28T00:00:00",
          "2020-01-29T00:00:00",
          "2020-01-30T00:00:00",
          "2020-01-31T00:00:00",
          "2020-02-01T00:00:00",
          "2020-02-02T00:00:00",
          "2020-02-03T00:00:00",
          "2020-02-04T00:00:00",
          "2020-02-05T00:00:00",
          "2020-02-06T00:00:00",
          "2020-02-07T00:00:00",
          "2020-02-08T00:00:00",
          "2020-02-09T00:00:00",
          "2020-02-10T00:00:00",
          "2020-02-11T00:00:00",
          "2020-02-12T00:00:00",
          "2020-02-13T00:00:00",
          "2020-02-14T00:00:00",
          "2020-02-15T00:00:00",
          "2020-02-16T00:00:00",
          "2020-02-17T00:00:00",
          "2020-02-18T00:00:00",
          "2020-02-19T00:00:00",
          "2020-02-20T00:00:00",
          "2020-02-21T00:00:00",
          "2020-02-22T00:00:00",
          "2020-02-23T00:00:00",
          "2020-02-24T00:00:00",
          "2020-02-25T00:00:00",
          "2020-02-26T00:00:00",
          "2020-02-27T00:00:00",
          "2020-02-28T00:00:00",
          "2020-02-29T00:00:00",
          "2020-03-01T00:00:00",
          "2020-03-02T00:00:00",
          "2020-03-03T00:00:00",
          "2020-03-04T00:00:00",
          "2020-03-05T00:00:00",
          "2020-03-06T00:00:00",
          "2020-03-07T00:00:00",
          "2020-03-08T00:00:00",
          "2020-03-09T00:00:00",
          "2020-03-10T00:00:00",
          "2020-03-11T00:00:00",
          "2020-03-12T00:00:00",
          "2020-03-13T00:00:00",
          "2020-03-14T00:00:00",
          "2020-03-15T00:00:00",
          "2020-03-16T00:00:00",
          "2020-03-17T00:00:00",
          "2020-03-18T00:00:00",
          "2020-03-19T00:00:00",
          "2020-03-20T00:00:00",
          "2020-03-21T00:00:00",
          "2020-03-22T00:00:00",
          "2020-03-23T00:00:00",
          "2020-03-24T00:00:00",
          "2020-03-25T00:00:00",
          "2020-03-26T00:00:00",
          "2020-03-27T00:00:00",
          "2020-03-28T00:00:00",
          "2020-03-29T00:00:00",
          "2020-03-30T00:00:00",
          "2020-03-31T00:00:00",
          "2020-04-01T00:00:00",
          "2020-04-02T00:00:00",
          "2020-04-03T00:00:00",
          "2020-04-04T00:00:00",
          "2020-04-05T00:00:00",
          "2020-04-06T00:00:00",
          "2020-04-07T00:00:00",
          "2020-04-08T00:00:00",
          "2020-04-09T00:00:00",
          "2020-04-10T00:00:00",
          "2020-04-11T00:00:00",
          "2020-04-12T00:00:00",
          "2020-04-13T00:00:00",
          "2020-04-14T00:00:00",
          "2020-04-15T00:00:00",
          "2020-04-16T00:00:00",
          "2020-04-17T00:00:00",
          "2020-04-18T00:00:00",
          "2020-04-19T00:00:00",
          "2020-04-20T00:00:00",
          "2020-04-21T00:00:00",
          "2020-04-22T00:00:00",
          "2020-04-23T00:00:00",
          "2020-04-24T00:00:00",
          "2020-04-25T00:00:00",
          "2020-04-26T00:00:00",
          "2020-04-27T00:00:00",
          "2020-04-28T00:00:00",
          "2020-04-29T00:00:00",
          "2020-04-30T00:00:00",
          "2020-05-01T00:00:00",
          "2020-05-02T00:00:00",
          "2020-05-03T00:00:00",
          "2020-05-04T00:00:00",
          "2020-05-05T00:00:00",
          "2020-05-06T00:00:00",
          "2020-05-07T00:00:00",
          "2020-05-08T00:00:00",
          "2020-05-09T00:00:00",
          "2020-05-10T00:00:00",
          "2020-05-11T00:00:00",
          "2020-05-12T00:00:00",
          "2020-05-13T00:00:00",
          "2020-05-14T00:00:00",
          "2020-05-15T00:00:00",
          "2020-05-16T00:00:00",
          "2020-05-17T00:00:00",
          "2020-05-18T00:00:00",
          "2020-05-19T00:00:00",
          "2020-05-20T00:00:00",
          "2020-05-21T00:00:00",
          "2020-05-22T00:00:00",
          "2020-05-23T00:00:00",
          "2020-05-24T00:00:00",
          "2020-05-25T00:00:00",
          "2020-05-26T00:00:00",
          "2020-05-27T00:00:00",
          "2020-05-28T00:00:00",
          "2020-05-29T00:00:00",
          "2020-05-30T00:00:00",
          "2020-05-31T00:00:00",
          "2020-06-01T00:00:00",
          "2020-06-02T00:00:00",
          "2020-06-03T00:00:00",
          "2020-06-04T00:00:00",
          "2020-06-05T00:00:00",
          "2020-06-06T00:00:00",
          "2020-06-07T00:00:00",
          "2020-06-08T00:00:00",
          "2020-06-09T00:00:00",
          "2020-06-10T00:00:00",
          "2020-06-11T00:00:00",
          "2020-06-12T00:00:00",
          "2020-06-13T00:00:00",
          "2020-06-14T00:00:00",
          "2020-06-15T00:00:00",
          "2020-06-16T00:00:00",
          "2020-06-17T00:00:00",
          "2020-06-18T00:00:00",
          "2020-06-19T00:00:00",
          "2020-06-20T00:00:00",
          "2020-06-21T00:00:00",
          "2020-06-22T00:00:00",
          "2020-06-23T00:00:00",
          "2020-06-24T00:00:00",
          "2020-06-25T00:00:00",
          "2020-06-26T00:00:00",
          "2020-06-27T00:00:00",
          "2020-06-28T00:00:00",
          "2020-06-29T00:00:00",
          "2020-06-30T00:00:00",
          "2020-07-01T00:00:00",
          "2020-07-02T00:00:00",
          "2020-07-03T00:00:00",
          "2020-07-04T00:00:00",
          "2020-07-05T00:00:00",
          "2020-07-06T00:00:00",
          "2020-07-07T00:00:00",
          "2020-07-08T00:00:00",
          "2020-07-09T00:00:00",
          "2020-07-10T00:00:00",
          "2020-07-11T00:00:00",
          "2020-07-12T00:00:00",
          "2020-07-13T00:00:00",
          "2020-07-14T00:00:00",
          "2020-07-15T00:00:00",
          "2020-07-16T00:00:00",
          "2020-07-17T00:00:00",
          "2020-07-18T00:00:00",
          "2020-07-19T00:00:00",
          "2020-07-20T00:00:00",
          "2020-07-21T00:00:00",
          "2020-07-22T00:00:00",
          "2020-07-23T00:00:00",
          "2020-07-24T00:00:00",
          "2020-07-25T00:00:00",
          "2020-07-26T00:00:00",
          "2020-07-27T00:00:00",
          "2020-07-28T00:00:00",
          "2020-07-29T00:00:00",
          "2020-07-30T00:00:00",
          "2020-07-31T00:00:00",
          "2020-08-01T00:00:00",
          "2020-08-02T00:00:00",
          "2020-08-03T00:00:00",
          "2020-08-04T00:00:00",
          "2020-08-05T00:00:00",
          "2020-08-06T00:00:00",
          "2020-08-07T00:00:00",
          "2020-08-08T00:00:00",
          "2020-08-09T00:00:00",
          "2020-08-10T00:00:00",
          "2020-08-11T00:00:00",
          "2020-08-12T00:00:00",
          "2020-08-13T00:00:00",
          "2020-08-14T00:00:00",
          "2020-08-15T00:00:00",
          "2020-08-16T00:00:00",
          "2020-08-17T00:00:00",
          "2020-08-18T00:00:00",
          "2020-08-19T00:00:00",
          "2020-08-20T00:00:00",
          "2020-08-21T00:00:00",
          "2020-08-22T00:00:00",
          "2020-08-23T00:00:00",
          "2020-08-24T00:00:00",
          "2020-08-25T00:00:00",
          "2020-08-26T00:00:00",
          "2020-08-27T00:00:00",
          "2020-08-28T00:00:00",
          "2020-08-29T00:00:00",
          "2020-08-30T00:00:00",
          "2020-08-31T00:00:00",
          "2020-09-01T00:00:00",
          "2020-09-02T00:00:00",
          "2020-09-03T00:00:00",
          "2020-09-04T00:00:00",
          "2020-09-05T00:00:00",
          "2020-09-06T00:00:00",
          "2020-09-07T00:00:00",
          "2020-09-08T00:00:00",
          "2020-09-09T00:00:00",
          "2020-09-10T00:00:00",
          "2020-09-11T00:00:00",
          "2020-09-12T00:00:00",
          "2020-09-13T00:00:00",
          "2020-09-14T00:00:00",
          "2020-09-15T00:00:00",
          "2020-09-16T00:00:00",
          "2020-09-17T00:00:00",
          "2020-09-18T00:00:00",
          "2020-09-19T00:00:00",
          "2020-09-20T00:00:00",
          "2020-09-21T00:00:00",
          "2020-09-22T00:00:00",
          "2020-09-23T00:00:00",
          "2020-09-24T00:00:00",
          "2020-09-25T00:00:00",
          "2020-09-26T00:00:00",
          "2020-09-27T00:00:00",
          "2020-09-28T00:00:00",
          "2020-09-29T00:00:00",
          "2020-09-30T00:00:00",
          "2020-10-01T00:00:00",
          "2020-10-02T00:00:00",
          "2020-10-03T00:00:00",
          "2020-10-04T00:00:00",
          "2020-10-05T00:00:00",
          "2020-10-06T00:00:00",
          "2020-10-07T00:00:00",
          "2020-10-08T00:00:00",
          "2020-10-09T00:00:00",
          "2020-10-10T00:00:00",
          "2020-10-11T00:00:00",
          "2020-10-12T00:00:00",
          "2020-10-13T00:00:00",
          "2020-10-14T00:00:00",
          "2020-10-15T00:00:00",
          "2020-10-16T00:00:00",
          "2020-10-17T00:00:00",
          "2020-10-18T00:00:00",
          "2020-10-19T00:00:00",
          "2020-10-20T00:00:00",
          "2020-10-21T00:00:00",
          "2020-10-22T00:00:00",
          "2020-10-23T00:00:00",
          "2020-10-24T00:00:00",
          "2020-10-25T00:00:00",
          "2020-10-26T00:00:00",
          "2020-10-27T00:00:00",
          "2020-10-28T00:00:00",
          "2020-10-29T00:00:00",
          "2020-10-30T00:00:00",
          "2020-10-31T00:00:00",
          "2020-11-01T00:00:00",
          "2020-11-02T00:00:00",
          "2020-11-03T00:00:00",
          "2020-11-04T00:00:00",
          "2020-11-05T00:00:00",
          "2020-11-06T00:00:00",
          "2020-11-07T00:00:00",
          "2020-11-08T00:00:00",
          "2020-11-09T00:00:00",
          "2020-11-10T00:00:00",
          "2020-11-11T00:00:00",
          "2020-11-12T00:00:00",
          "2020-11-13T00:00:00",
          "2020-11-14T00:00:00",
          "2020-11-15T00:00:00",
          "2020-11-16T00:00:00",
          "2020-11-17T00:00:00",
          "2020-11-18T00:00:00",
          "2020-11-19T00:00:00",
          "2020-11-20T00:00:00",
          "2020-11-21T00:00:00",
          "2020-11-22T00:00:00",
          "2020-11-23T00:00:00",
          "2020-11-24T00:00:00",
          "2020-11-25T00:00:00",
          "2020-11-26T00:00:00",
          "2020-11-27T00:00:00",
          "2020-11-28T00:00:00",
          "2020-11-29T00:00:00",
          "2020-11-30T00:00:00",
          "2020-12-01T00:00:00",
          "2020-12-02T00:00:00",
          "2020-12-03T00:00:00",
          "2020-12-04T00:00:00",
          "2020-12-05T00:00:00",
          "2020-12-06T00:00:00",
          "2020-12-07T00:00:00",
          "2020-12-08T00:00:00",
          "2020-12-09T00:00:00",
          "2020-12-10T00:00:00",
          "2020-12-11T00:00:00",
          "2020-12-12T00:00:00",
          "2020-12-13T00:00:00",
          "2020-12-14T00:00:00",
          "2020-12-15T00:00:00",
          "2020-12-16T00:00:00",
          "2020-12-17T00:00:00",
          "2020-12-18T00:00:00",
          "2020-12-19T00:00:00",
          "2020-12-20T00:00:00",
          "2020-12-21T00:00:00",
          "2020-12-22T00:00:00",
          "2020-12-23T00:00:00",
          "2020-12-24T00:00:00",
          "2020-12-25T00:00:00",
          "2020-12-26T00:00:00",
          "2020-12-27T00:00:00",
          "2020-12-28T00:00:00",
          "2020-12-29T00:00:00",
          "2020-12-30T00:00:00",
          "2020-12-31T00:00:00"
         ],
         "xaxis": "x",
         "y": [
          191116.772059,
          180913.996889,
          172014.735099,
          174952.194737,
          183132.004396,
          182032.532852,
          169191.004441,
          158096.338826,
          152747.033957,
          157868.036921,
          173513.256825,
          181513.787507,
          170870.940135,
          163212.613956,
          159747.629276,
          156571.215489,
          158870.909391,
          177317.985101,
          194006.594874,
          193212.169404,
          193636.675426,
          198590.651817,
          193929.484013,
          191785.210688,
          192570.104185,
          186984.437774,
          173657.63485,
          172299.146317,
          170836.211114,
          164068.383955,
          146711.956798,
          148789.358165,
          148589.71593,
          136057.613991,
          149638.746856,
          161146.658738,
          169167.328771,
          171071.161374,
          167362.980616,
          167761.908894,
          151290.232604,
          155434.761377,
          162930.79198,
          164133.802135,
          152805.629911,
          155425.173077,
          149383.189966,
          148413.679035,
          154660.058146,
          158047.729835,
          155174.794696,
          158799.513267,
          161514.296273,
          153994.940356,
          142007.715574,
          146225.366646,
          165895.342929,
          171308.640424,
          170641.705305,
          163541.611654,
          168881.804601,
          164653.624815,
          169905.717632,
          170809.508576,
          160263.237431,
          166252.905197,
          169988.487635,
          166206.199541,
          156139.30363,
          150645.125192,
          136674.316587,
          134491.163091,
          141602.986859,
          151297.628088,
          147874.266564,
          143706.846328,
          140979.260592,
          134389.134346,
          127912.670796,
          127533.747536,
          141864.367191,
          150185.342147,
          147686.174147,
          149770.799325,
          154471.056145,
          159307.740754,
          156180.129016,
          149346.289497,
          154844.921922,
          173151.332675,
          164013.184509,
          154829.135262,
          152371.566943,
          144928.975777,
          135003.338774,
          123434.716877,
          115997.072834,
          111703.808438,
          105682.318521,
          100836.846203,
          97965.682387,
          99392.381992,
          100751.887863,
          101942.678823,
          105951.012255,
          106520.362027,
          99788.607267,
          96903.811121,
          100912.967137,
          104851.666181,
          102663.170593,
          102104.081431,
          101083.461856,
          97956.41873,
          96729.485146,
          98618.417974,
          100225.007683,
          97264.17031,
          98571.132555,
          102320.343073,
          106447.109323,
          111770.902927,
          109191.201701,
          107602.080986,
          98413.557373,
          97691.49121,
          95862.363564,
          93647.851884,
          94913.248442,
          94324.609819,
          97823.128392,
          99815.977884,
          104801.097719,
          108072.799829,
          108201.409972,
          105227.980257,
          103364.131402,
          100795.608492,
          93816.511595,
          90262.020639,
          88558.475006,
          89226.250346,
          88230.881728,
          90865.148761,
          91857.780582,
          87484.172382,
          85207.5849,
          85139.798895,
          84923.491552,
          84956.492014,
          86341.100599,
          86634.02736,
          87038.2275,
          83082.202317,
          83955.581247,
          84705.024834,
          86055.293225,
          88609.121195,
          90742.135839,
          87551.912926,
          87471.038384,
          88316.35165,
          87772.501635,
          87992.4139,
          89483.876601,
          89519.560853,
          85074.251887,
          83268.340401,
          84808.346446,
          83724.968486,
          83438.206298,
          84529.098567,
          86060.521762,
          81956.315939,
          80471.633254,
          81829.376323,
          81966.187798,
          81963.087335,
          83498.458684,
          85508.61257,
          81717.535503,
          80576.749033,
          81478.069044,
          79800.476665,
          78871.910231,
          81852.05645,
          83585.463076,
          80546.538882,
          78293.506159,
          78840.204778,
          79145.583028,
          79001.38524,
          78826.084515,
          78652.293682,
          77130.817815,
          79070.163177,
          76238.017253,
          75932.14196,
          75772.933357,
          77460.390885,
          79021.372048,
          77326.448269,
          76563.395435,
          76680.769743,
          76236.725559,
          76310.030787,
          77598.073617,
          78664.421244,
          77900.809234,
          75962.524711,
          76472.438789,
          78162.655035,
          80909.754231,
          80648.733584,
          78806.68768,
          74830.525752,
          72499.320493,
          72632.540088,
          73758.338911,
          76353.927424,
          79186.978056,
          81733.515888,
          79932.738457,
          79491.881064,
          79263.942808,
          76745.441577,
          75593.807107,
          76642.49487,
          77205.794455,
          75029.628203,
          74147.119723,
          75569.386486,
          76940.553166,
          78052.725611,
          77806.609288,
          78858.235284,
          76067.717903,
          75968.514433,
          76638.238949,
          77137.133239,
          78029.542591,
          80019.777193,
          82764.605033,
          78748.259888,
          76596.188679,
          77661.997735,
          76039.485634,
          76213.182953,
          79756.588903,
          83165.37621,
          77763.472714,
          76441.600174,
          78018.276882,
          76795.246659,
          77734.371698,
          81794.272493,
          84486.728042,
          80536.205963,
          79729.73039,
          81837.764666,
          80309.148948,
          80249.644962,
          84364.014839,
          86708.894425,
          80795.537747,
          79149.464004,
          81359.458702,
          81419.085944,
          86460.74468,
          98539.962883,
          110831.662681,
          103438.077501,
          97259.867876,
          94957.755629,
          96986.941977,
          105427.413395,
          114865.518417,
          120806.512661,
          114742.571358,
          110469.398982,
          108495.032259,
          102618.977268,
          101766.563501,
          111168.548186,
          122497.919876,
          120860.524945,
          121506.033024,
          126871.92688,
          129831.246965,
          130609.555066,
          134581.692668,
          136360.88029,
          131080.618082,
          122512.276568,
          110842.258821,
          106640.612985,
          108186.681396,
          115076.897599,
          128089.134986,
          127903.152591,
          131126.356447,
          127178.796488,
          121097.874879,
          122721.844762,
          126898.216651,
          124962.033845,
          112422.226159,
          124017.098343,
          141033.358447,
          143796.08736,
          141178.535034,
          138654.259094,
          132139.660436,
          120344.720477,
          121160.182151,
          133156.499209,
          126061.583007,
          127707.619405,
          129523.057151,
          134483.897041,
          131644.786876,
          132480.027807,
          135882.872383,
          137214.569046,
          151446.939391,
          166597.730197,
          172075.461585,
          161564.182253,
          162830.767045,
          161855.885677,
          156889.617146,
          155349.296378,
          161383.066884,
          176521.597787,
          180391.890068,
          175749.919864,
          180060.691334,
          177276.015398,
          180611.305186,
          195287.01778,
          196616.855772,
          194614.64695,
          191466.239211,
          198609.920077,
          187811.949364,
          178952.843474,
          176352.571686,
          182539.806221,
          165972.848709,
          156075.74243,
          163133.131242,
          157964.682353,
          159883.680304,
          163093.891871,
          163042.026467,
          162136.964684,
          145796.388179,
          149176.949218,
          170279.813561,
          187108.414003,
          197765.943409,
          203112.892281,
          197273.05935,
          196132.378145,
          198111.66632,
          202619.618803
         ],
         "yaxis": "y"
        },
        {
         "line": {
          "color": "rgb(253, 233, 234)"
         },
         "type": "scatter",
         "x": [
          "2020-01-01T00:00:00",
          "2020-01-02T00:00:00",
          "2020-01-03T00:00:00",
          "2020-01-04T00:00:00",
          "2020-01-05T00:00:00",
          "2020-01-06T00:00:00",
          "2020-01-07T00:00:00",
          "2020-01-08T00:00:00",
          "2020-01-09T00:00:00",
          "2020-01-10T00:00:00",
          "2020-01-11T00:00:00",
          "2020-01-12T00:00:00",
          "2020-01-13T00:00:00",
          "2020-01-14T00:00:00",
          "2020-01-15T00:00:00",
          "2020-01-16T00:00:00",
          "2020-01-17T00:00:00",
          "2020-01-18T00:00:00",
          "2020-01-19T00:00:00",
          "2020-01-20T00:00:00",
          "2020-01-21T00:00:00",
          "2020-01-22T00:00:00",
          "2020-01-23T00:00:00",
          "2020-01-24T00:00:00",
          "2020-01-25T00:00:00",
          "2020-01-26T00:00:00",
          "2020-01-27T00:00:00",
          "2020-01-28T00:00:00",
          "2020-01-29T00:00:00",
          "2020-01-30T00:00:00",
          "2020-01-31T00:00:00",
          "2020-02-01T00:00:00",
          "2020-02-02T00:00:00",
          "2020-02-03T00:00:00",
          "2020-02-04T00:00:00",
          "2020-02-05T00:00:00",
          "2020-02-06T00:00:00",
          "2020-02-07T00:00:00",
          "2020-02-08T00:00:00",
          "2020-02-09T00:00:00",
          "2020-02-10T00:00:00",
          "2020-02-11T00:00:00",
          "2020-02-12T00:00:00",
          "2020-02-13T00:00:00",
          "2020-02-14T00:00:00",
          "2020-02-15T00:00:00",
          "2020-02-16T00:00:00",
          "2020-02-17T00:00:00",
          "2020-02-18T00:00:00",
          "2020-02-19T00:00:00",
          "2020-02-20T00:00:00",
          "2020-02-21T00:00:00",
          "2020-02-22T00:00:00",
          "2020-02-23T00:00:00",
          "2020-02-24T00:00:00",
          "2020-02-25T00:00:00",
          "2020-02-26T00:00:00",
          "2020-02-27T00:00:00",
          "2020-02-28T00:00:00",
          "2020-02-29T00:00:00",
          "2020-03-01T00:00:00",
          "2020-03-02T00:00:00",
          "2020-03-03T00:00:00",
          "2020-03-04T00:00:00",
          "2020-03-05T00:00:00",
          "2020-03-06T00:00:00",
          "2020-03-07T00:00:00",
          "2020-03-08T00:00:00",
          "2020-03-09T00:00:00",
          "2020-03-10T00:00:00",
          "2020-03-11T00:00:00",
          "2020-03-12T00:00:00",
          "2020-03-13T00:00:00",
          "2020-03-14T00:00:00",
          "2020-03-15T00:00:00",
          "2020-03-16T00:00:00",
          "2020-03-17T00:00:00",
          "2020-03-18T00:00:00",
          "2020-03-19T00:00:00",
          "2020-03-20T00:00:00",
          "2020-03-21T00:00:00",
          "2020-03-22T00:00:00",
          "2020-03-23T00:00:00",
          "2020-03-24T00:00:00",
          "2020-03-25T00:00:00",
          "2020-03-26T00:00:00",
          "2020-03-27T00:00:00",
          "2020-03-28T00:00:00",
          "2020-03-29T00:00:00",
          "2020-03-30T00:00:00",
          "2020-03-31T00:00:00",
          "2020-04-01T00:00:00",
          "2020-04-02T00:00:00",
          "2020-04-03T00:00:00",
          "2020-04-04T00:00:00",
          "2020-04-05T00:00:00",
          "2020-04-06T00:00:00",
          "2020-04-07T00:00:00",
          "2020-04-08T00:00:00",
          "2020-04-09T00:00:00",
          "2020-04-10T00:00:00",
          "2020-04-11T00:00:00",
          "2020-04-12T00:00:00",
          "2020-04-13T00:00:00",
          "2020-04-14T00:00:00",
          "2020-04-15T00:00:00",
          "2020-04-16T00:00:00",
          "2020-04-17T00:00:00",
          "2020-04-18T00:00:00",
          "2020-04-19T00:00:00",
          "2020-04-20T00:00:00",
          "2020-04-21T00:00:00",
          "2020-04-22T00:00:00",
          "2020-04-23T00:00:00",
          "2020-04-24T00:00:00",
          "2020-04-25T00:00:00",
          "2020-04-26T00:00:00",
          "2020-04-27T00:00:00",
          "2020-04-28T00:00:00",
          "2020-04-29T00:00:00",
          "2020-04-30T00:00:00",
          "2020-05-01T00:00:00",
          "2020-05-02T00:00:00",
          "2020-05-03T00:00:00",
          "2020-05-04T00:00:00",
          "2020-05-05T00:00:00",
          "2020-05-06T00:00:00",
          "2020-05-07T00:00:00",
          "2020-05-08T00:00:00",
          "2020-05-09T00:00:00",
          "2020-05-10T00:00:00",
          "2020-05-11T00:00:00",
          "2020-05-12T00:00:00",
          "2020-05-13T00:00:00",
          "2020-05-14T00:00:00",
          "2020-05-15T00:00:00",
          "2020-05-16T00:00:00",
          "2020-05-17T00:00:00",
          "2020-05-18T00:00:00",
          "2020-05-19T00:00:00",
          "2020-05-20T00:00:00",
          "2020-05-21T00:00:00",
          "2020-05-22T00:00:00",
          "2020-05-23T00:00:00",
          "2020-05-24T00:00:00",
          "2020-05-25T00:00:00",
          "2020-05-26T00:00:00",
          "2020-05-27T00:00:00",
          "2020-05-28T00:00:00",
          "2020-05-29T00:00:00",
          "2020-05-30T00:00:00",
          "2020-05-31T00:00:00",
          "2020-06-01T00:00:00",
          "2020-06-02T00:00:00",
          "2020-06-03T00:00:00",
          "2020-06-04T00:00:00",
          "2020-06-05T00:00:00",
          "2020-06-06T00:00:00",
          "2020-06-07T00:00:00",
          "2020-06-08T00:00:00",
          "2020-06-09T00:00:00",
          "2020-06-10T00:00:00",
          "2020-06-11T00:00:00",
          "2020-06-12T00:00:00",
          "2020-06-13T00:00:00",
          "2020-06-14T00:00:00",
          "2020-06-15T00:00:00",
          "2020-06-16T00:00:00",
          "2020-06-17T00:00:00",
          "2020-06-18T00:00:00",
          "2020-06-19T00:00:00",
          "2020-06-20T00:00:00",
          "2020-06-21T00:00:00",
          "2020-06-22T00:00:00",
          "2020-06-23T00:00:00",
          "2020-06-24T00:00:00",
          "2020-06-25T00:00:00",
          "2020-06-26T00:00:00",
          "2020-06-27T00:00:00",
          "2020-06-28T00:00:00",
          "2020-06-29T00:00:00",
          "2020-06-30T00:00:00",
          "2020-07-01T00:00:00",
          "2020-07-02T00:00:00",
          "2020-07-03T00:00:00",
          "2020-07-04T00:00:00",
          "2020-07-05T00:00:00",
          "2020-07-06T00:00:00",
          "2020-07-07T00:00:00",
          "2020-07-08T00:00:00",
          "2020-07-09T00:00:00",
          "2020-07-10T00:00:00",
          "2020-07-11T00:00:00",
          "2020-07-12T00:00:00",
          "2020-07-13T00:00:00",
          "2020-07-14T00:00:00",
          "2020-07-15T00:00:00",
          "2020-07-16T00:00:00",
          "2020-07-17T00:00:00",
          "2020-07-18T00:00:00",
          "2020-07-19T00:00:00",
          "2020-07-20T00:00:00",
          "2020-07-21T00:00:00",
          "2020-07-22T00:00:00",
          "2020-07-23T00:00:00",
          "2020-07-24T00:00:00",
          "2020-07-25T00:00:00",
          "2020-07-26T00:00:00",
          "2020-07-27T00:00:00",
          "2020-07-28T00:00:00",
          "2020-07-29T00:00:00",
          "2020-07-30T00:00:00",
          "2020-07-31T00:00:00",
          "2020-08-01T00:00:00",
          "2020-08-02T00:00:00",
          "2020-08-03T00:00:00",
          "2020-08-04T00:00:00",
          "2020-08-05T00:00:00",
          "2020-08-06T00:00:00",
          "2020-08-07T00:00:00",
          "2020-08-08T00:00:00",
          "2020-08-09T00:00:00",
          "2020-08-10T00:00:00",
          "2020-08-11T00:00:00",
          "2020-08-12T00:00:00",
          "2020-08-13T00:00:00",
          "2020-08-14T00:00:00",
          "2020-08-15T00:00:00",
          "2020-08-16T00:00:00",
          "2020-08-17T00:00:00",
          "2020-08-18T00:00:00",
          "2020-08-19T00:00:00",
          "2020-08-20T00:00:00",
          "2020-08-21T00:00:00",
          "2020-08-22T00:00:00",
          "2020-08-23T00:00:00",
          "2020-08-24T00:00:00",
          "2020-08-25T00:00:00",
          "2020-08-26T00:00:00",
          "2020-08-27T00:00:00",
          "2020-08-28T00:00:00",
          "2020-08-29T00:00:00",
          "2020-08-30T00:00:00",
          "2020-08-31T00:00:00",
          "2020-09-01T00:00:00",
          "2020-09-02T00:00:00",
          "2020-09-03T00:00:00",
          "2020-09-04T00:00:00",
          "2020-09-05T00:00:00",
          "2020-09-06T00:00:00",
          "2020-09-07T00:00:00",
          "2020-09-08T00:00:00",
          "2020-09-09T00:00:00",
          "2020-09-10T00:00:00",
          "2020-09-11T00:00:00",
          "2020-09-12T00:00:00",
          "2020-09-13T00:00:00",
          "2020-09-14T00:00:00",
          "2020-09-15T00:00:00",
          "2020-09-16T00:00:00",
          "2020-09-17T00:00:00",
          "2020-09-18T00:00:00",
          "2020-09-19T00:00:00",
          "2020-09-20T00:00:00",
          "2020-09-21T00:00:00",
          "2020-09-22T00:00:00",
          "2020-09-23T00:00:00",
          "2020-09-24T00:00:00",
          "2020-09-25T00:00:00",
          "2020-09-26T00:00:00",
          "2020-09-27T00:00:00",
          "2020-09-28T00:00:00",
          "2020-09-29T00:00:00",
          "2020-09-30T00:00:00",
          "2020-10-01T00:00:00",
          "2020-10-02T00:00:00",
          "2020-10-03T00:00:00",
          "2020-10-04T00:00:00",
          "2020-10-05T00:00:00",
          "2020-10-06T00:00:00",
          "2020-10-07T00:00:00",
          "2020-10-08T00:00:00",
          "2020-10-09T00:00:00",
          "2020-10-10T00:00:00",
          "2020-10-11T00:00:00",
          "2020-10-12T00:00:00",
          "2020-10-13T00:00:00",
          "2020-10-14T00:00:00",
          "2020-10-15T00:00:00",
          "2020-10-16T00:00:00",
          "2020-10-17T00:00:00",
          "2020-10-18T00:00:00",
          "2020-10-19T00:00:00",
          "2020-10-20T00:00:00",
          "2020-10-21T00:00:00",
          "2020-10-22T00:00:00",
          "2020-10-23T00:00:00",
          "2020-10-24T00:00:00",
          "2020-10-25T00:00:00",
          "2020-10-26T00:00:00",
          "2020-10-27T00:00:00",
          "2020-10-28T00:00:00",
          "2020-10-29T00:00:00",
          "2020-10-30T00:00:00",
          "2020-10-31T00:00:00",
          "2020-11-01T00:00:00",
          "2020-11-02T00:00:00",
          "2020-11-03T00:00:00",
          "2020-11-04T00:00:00",
          "2020-11-05T00:00:00",
          "2020-11-06T00:00:00",
          "2020-11-07T00:00:00",
          "2020-11-08T00:00:00",
          "2020-11-09T00:00:00",
          "2020-11-10T00:00:00",
          "2020-11-11T00:00:00",
          "2020-11-12T00:00:00",
          "2020-11-13T00:00:00",
          "2020-11-14T00:00:00",
          "2020-11-15T00:00:00",
          "2020-11-16T00:00:00",
          "2020-11-17T00:00:00",
          "2020-11-18T00:00:00",
          "2020-11-19T00:00:00",
          "2020-11-20T00:00:00",
          "2020-11-21T00:00:00",
          "2020-11-22T00:00:00",
          "2020-11-23T00:00:00",
          "2020-11-24T00:00:00",
          "2020-11-25T00:00:00",
          "2020-11-26T00:00:00",
          "2020-11-27T00:00:00",
          "2020-11-28T00:00:00",
          "2020-11-29T00:00:00",
          "2020-11-30T00:00:00",
          "2020-12-01T00:00:00",
          "2020-12-02T00:00:00",
          "2020-12-03T00:00:00",
          "2020-12-04T00:00:00",
          "2020-12-05T00:00:00",
          "2020-12-06T00:00:00",
          "2020-12-07T00:00:00",
          "2020-12-08T00:00:00",
          "2020-12-09T00:00:00",
          "2020-12-10T00:00:00",
          "2020-12-11T00:00:00",
          "2020-12-12T00:00:00",
          "2020-12-13T00:00:00",
          "2020-12-14T00:00:00",
          "2020-12-15T00:00:00",
          "2020-12-16T00:00:00",
          "2020-12-17T00:00:00",
          "2020-12-18T00:00:00",
          "2020-12-19T00:00:00",
          "2020-12-20T00:00:00",
          "2020-12-21T00:00:00",
          "2020-12-22T00:00:00",
          "2020-12-23T00:00:00",
          "2020-12-24T00:00:00",
          "2020-12-25T00:00:00",
          "2020-12-26T00:00:00",
          "2020-12-27T00:00:00",
          "2020-12-28T00:00:00",
          "2020-12-29T00:00:00",
          "2020-12-30T00:00:00",
          "2020-12-31T00:00:00"
         ],
         "xaxis": "x2",
         "y": [
          42540.08876,
          50577.531342,
          49962.402763,
          45537.418281,
          41637.04867,
          52844.428617,
          53013.557283,
          49508.139485,
          49340.266309,
          50288.802413,
          46035.173758,
          41994.042233,
          50393.542155,
          51379.724733,
          49172.308094,
          49604.571377,
          50127.354985,
          46560.50241,
          43865.348331,
          54692.475179,
          57635.4641,
          57177.037516,
          57610.980615,
          56568.323858,
          49587.29114,
          42762.396475,
          51354.102208,
          53589.076548,
          51788.893827,
          51744.827289,
          47875.817653,
          41551.344583,
          36321.29708,
          43636.381212,
          48834.371177,
          49502.325855,
          52116.484513,
          51973.91197,
          44497.992366,
          38888.29319,
          45811.169346,
          49504.291708,
          49498.337251,
          51018.661599,
          48154.673935,
          42186.565323,
          35867.650136,
          44703.440077,
          47787.08056,
          47730.073599,
          47490.109783,
          47700.008967,
          42572.001678,
          36647.699792,
          42979.069432,
          46246.592626,
          49471.963106,
          51124.780746,
          50336.892196,
          43125.425137,
          39209.821631,
          49039.8041,
          51977.737702,
          50971.364733,
          50519.296279,
          51066.773774,
          44622.541222,
          38493.168568,
          46923.930018,
          48408.06361,
          43668.180286,
          44122.029927,
          44653.659717,
          39826.13323,
          33974.60801,
          37848.634087,
          34721.364786,
          31854.206693,
          30804.49777,
          30351.18769,
          30334.507089,
          30016.697676,
          32433.104978,
          33177.467074,
          33436.502904,
          34100.412999,
          33468.795185,
          30896.05028,
          29803.801737,
          35772.475215,
          35247.698912,
          34412.678916,
          34162.962779,
          33095.259436,
          29985.067025,
          27332.373054,
          28878.387671,
          29010.443022,
          27940.24612,
          27434.939756,
          26902.972569,
          25270.37645,
          24055.12631,
          24541.887585,
          28557.431143,
          28507.720447,
          27321.655629,
          26721.130937,
          25248.212345,
          24331.961532,
          26936.586457,
          27732.859561,
          27410.571424,
          27113.955022,
          26625.917697,
          24877.534508,
          23875.339328,
          26382.757068,
          27456.86063,
          27956.763156,
          28828.003383,
          25978.168238,
          26518.970739,
          24921.30215,
          27029.986388,
          28093.950842,
          27621.98218,
          27423.463538,
          24259.650203,
          24821.370986,
          23600.227924,
          30615.347631,
          32619.214756,
          32596.444132,
          33110.154235,
          32407.606822,
          28312.570855,
          24730.536757,
          28669.450269,
          29714.367114,
          29312.508581,
          24664.248247,
          28216.274347,
          26311.01315,
          23303.276335,
          27938.610927,
          29401.648118,
          29096.499714,
          29557.599332,
          29475.753161,
          26627.689291,
          23280.370467,
          24348.828414,
          30361.635006,
          30096.858185,
          30735.759084,
          30687.408906,
          27383.616932,
          23845.745246,
          28777.516674,
          30658.591108,
          30312.862221,
          31178.016658,
          31237.541414,
          27471.216876,
          23844.668264,
          28942.908035,
          30716.022062,
          30486.733294,
          31029.349894,
          30947.481933,
          27472.837682,
          23842.16771,
          29315.245018,
          31432.033774,
          31763.762571,
          33036.808996,
          32817.279221,
          28573.459996,
          24343.875394,
          29951.988829,
          31774.934029,
          32158.266284,
          32308.084962,
          31806.600799,
          27856.767695,
          24332.561997,
          29616.915742,
          31009.586171,
          31452.820037,
          32283.272254,
          31775.459523,
          27927.926141,
          24214.211328,
          28089.192422,
          25086.876921,
          30699.82954,
          30928.028677,
          31216.548443,
          28271.745017,
          24695.469662,
          30203.963879,
          31933.637351,
          31650.991564,
          32123.912813,
          31815.690066,
          28520.453583,
          24561.782968,
          30395.664698,
          31836.269305,
          31728.049228,
          32823.053261,
          33153.185797,
          29070.105078,
          24524.647539,
          28342.161555,
          29430.035337,
          29832.906092,
          30650.770529,
          31389.660932,
          28665.630003,
          25242.316768,
          29785.916427,
          31335.996083,
          31102.213873,
          30451.437807,
          29670.620432,
          25799.550171,
          24164.63859,
          27774.230438,
          29634.837347,
          29981.874969,
          31070.132212,
          30918.934919,
          27895.522593,
          24152.95494,
          28648.039706,
          30784.936004,
          30835.956075,
          31451.325672,
          31184.0915,
          27725.023794,
          24260.559426,
          29187.076284,
          31139.109063,
          31036.321817,
          31911.997429,
          32583.543744,
          28611.520215,
          24712.746212,
          30113.370401,
          32103.26707,
          32027.84924,
          32781.558558,
          33140.07587,
          29309.157936,
          25579.644069,
          31916.341992,
          33921.63343,
          33645.158411,
          33968.349063,
          33937.51638,
          30133.423278,
          25780.40396,
          31321.151021,
          32886.516644,
          32546.550084,
          33455.956387,
          34260.859858,
          30753.846778,
          27492.631323,
          34861.699704,
          36191.517549,
          35009.236817,
          36667.230175,
          38190.150147,
          34050.334759,
          30036.644781,
          37903.143573,
          39565.187499,
          37940.428748,
          37839.255791,
          37656.341516,
          33929.685331,
          30767.107151,
          39148.689541,
          41930.06191,
          41794.028725,
          43668.501461,
          43334.221142,
          37468.813432,
          33211.347655,
          40165.062755,
          40892.959654,
          38438.271328,
          38028.237922,
          38063.317303,
          34218.027163,
          32345.779796,
          39172.446763,
          41760.75314,
          40493.13888,
          40337.251407,
          36017.597454,
          31991.37715,
          29421.838746,
          34916.218812,
          38541.218085,
          39970.462444,
          41572.795887,
          40645.146348,
          34147.462233,
          30711.554831,
          36656.300263,
          37817.064651,
          32000.228576,
          38470.739543,
          38389.852339,
          32929.239684,
          30862.371269,
          38562.393194,
          39958.196809,
          38999.286349,
          40717.36403,
          42831.852859,
          38350.861358,
          35934.171112,
          43515.852004,
          45500.85471,
          44060.65713,
          44765.156039,
          44007.521254,
          40281.720731,
          38266.602781,
          49043.017488,
          50858.480482,
          49932.237103,
          50803.980419,
          50950.256557,
          46040.897781,
          41853.546022,
          51783.33399,
          53790.729372,
          53608.02015,
          53352.317946,
          51430.796595,
          44061.175406,
          40795.878407,
          47429.799842,
          47940.975217,
          47604.026493,
          47712.156205,
          47499.539942,
          41171.290965,
          37629.400787,
          45147.611928,
          43575.462431,
          43063.062744,
          42430.382491,
          39409.562342,
          44428.965759,
          41696.700728,
          47225.436497,
          49196.919484,
          49182.400149,
          47098.501268
         ],
         "yaxis": "y2"
        },
        {
         "line": {
          "color": "rgb(231, 181, 172)"
         },
         "type": "scatter",
         "x": [
          "2020-01-01T00:00:00",
          "2020-01-02T00:00:00",
          "2020-01-03T00:00:00",
          "2020-01-04T00:00:00",
          "2020-01-05T00:00:00",
          "2020-01-06T00:00:00",
          "2020-01-07T00:00:00",
          "2020-01-08T00:00:00",
          "2020-01-09T00:00:00",
          "2020-01-10T00:00:00",
          "2020-01-11T00:00:00",
          "2020-01-12T00:00:00",
          "2020-01-13T00:00:00",
          "2020-01-14T00:00:00",
          "2020-01-15T00:00:00",
          "2020-01-16T00:00:00",
          "2020-01-17T00:00:00",
          "2020-01-18T00:00:00",
          "2020-01-19T00:00:00",
          "2020-01-20T00:00:00",
          "2020-01-21T00:00:00",
          "2020-01-22T00:00:00",
          "2020-01-23T00:00:00",
          "2020-01-24T00:00:00",
          "2020-01-25T00:00:00",
          "2020-01-26T00:00:00",
          "2020-01-27T00:00:00",
          "2020-01-28T00:00:00",
          "2020-01-29T00:00:00",
          "2020-01-30T00:00:00",
          "2020-01-31T00:00:00",
          "2020-02-01T00:00:00",
          "2020-02-02T00:00:00",
          "2020-02-03T00:00:00",
          "2020-02-04T00:00:00",
          "2020-02-05T00:00:00",
          "2020-02-06T00:00:00",
          "2020-02-07T00:00:00",
          "2020-02-08T00:00:00",
          "2020-02-09T00:00:00",
          "2020-02-10T00:00:00",
          "2020-02-11T00:00:00",
          "2020-02-12T00:00:00",
          "2020-02-13T00:00:00",
          "2020-02-14T00:00:00",
          "2020-02-15T00:00:00",
          "2020-02-16T00:00:00",
          "2020-02-17T00:00:00",
          "2020-02-18T00:00:00",
          "2020-02-19T00:00:00",
          "2020-02-20T00:00:00",
          "2020-02-21T00:00:00",
          "2020-02-22T00:00:00",
          "2020-02-23T00:00:00",
          "2020-02-24T00:00:00",
          "2020-02-25T00:00:00",
          "2020-02-26T00:00:00",
          "2020-02-27T00:00:00",
          "2020-02-28T00:00:00",
          "2020-02-29T00:00:00",
          "2020-03-01T00:00:00",
          "2020-03-02T00:00:00",
          "2020-03-03T00:00:00",
          "2020-03-04T00:00:00",
          "2020-03-05T00:00:00",
          "2020-03-06T00:00:00",
          "2020-03-07T00:00:00",
          "2020-03-08T00:00:00",
          "2020-03-09T00:00:00",
          "2020-03-10T00:00:00",
          "2020-03-11T00:00:00",
          "2020-03-12T00:00:00",
          "2020-03-13T00:00:00",
          "2020-03-14T00:00:00",
          "2020-03-15T00:00:00",
          "2020-03-16T00:00:00",
          "2020-03-17T00:00:00",
          "2020-03-18T00:00:00",
          "2020-03-19T00:00:00",
          "2020-03-20T00:00:00",
          "2020-03-21T00:00:00",
          "2020-03-22T00:00:00",
          "2020-03-23T00:00:00",
          "2020-03-24T00:00:00",
          "2020-03-25T00:00:00",
          "2020-03-26T00:00:00",
          "2020-03-27T00:00:00",
          "2020-03-28T00:00:00",
          "2020-03-29T00:00:00",
          "2020-03-30T00:00:00",
          "2020-03-31T00:00:00",
          "2020-04-01T00:00:00",
          "2020-04-02T00:00:00",
          "2020-04-03T00:00:00",
          "2020-04-04T00:00:00",
          "2020-04-05T00:00:00",
          "2020-04-06T00:00:00",
          "2020-04-07T00:00:00",
          "2020-04-08T00:00:00",
          "2020-04-09T00:00:00",
          "2020-04-10T00:00:00",
          "2020-04-11T00:00:00",
          "2020-04-12T00:00:00",
          "2020-04-13T00:00:00",
          "2020-04-14T00:00:00",
          "2020-04-15T00:00:00",
          "2020-04-16T00:00:00",
          "2020-04-17T00:00:00",
          "2020-04-18T00:00:00",
          "2020-04-19T00:00:00",
          "2020-04-20T00:00:00",
          "2020-04-21T00:00:00",
          "2020-04-22T00:00:00",
          "2020-04-23T00:00:00",
          "2020-04-24T00:00:00",
          "2020-04-25T00:00:00",
          "2020-04-26T00:00:00",
          "2020-04-27T00:00:00",
          "2020-04-28T00:00:00",
          "2020-04-29T00:00:00",
          "2020-04-30T00:00:00",
          "2020-05-01T00:00:00",
          "2020-05-02T00:00:00",
          "2020-05-03T00:00:00",
          "2020-05-04T00:00:00",
          "2020-05-05T00:00:00",
          "2020-05-06T00:00:00",
          "2020-05-07T00:00:00",
          "2020-05-08T00:00:00",
          "2020-05-09T00:00:00",
          "2020-05-10T00:00:00",
          "2020-05-11T00:00:00",
          "2020-05-12T00:00:00",
          "2020-05-13T00:00:00",
          "2020-05-14T00:00:00",
          "2020-05-15T00:00:00",
          "2020-05-16T00:00:00",
          "2020-05-17T00:00:00",
          "2020-05-18T00:00:00",
          "2020-05-19T00:00:00",
          "2020-05-20T00:00:00",
          "2020-05-21T00:00:00",
          "2020-05-22T00:00:00",
          "2020-05-23T00:00:00",
          "2020-05-24T00:00:00",
          "2020-05-25T00:00:00",
          "2020-05-26T00:00:00",
          "2020-05-27T00:00:00",
          "2020-05-28T00:00:00",
          "2020-05-29T00:00:00",
          "2020-05-30T00:00:00",
          "2020-05-31T00:00:00",
          "2020-06-01T00:00:00",
          "2020-06-02T00:00:00",
          "2020-06-03T00:00:00",
          "2020-06-04T00:00:00",
          "2020-06-05T00:00:00",
          "2020-06-06T00:00:00",
          "2020-06-07T00:00:00",
          "2020-06-08T00:00:00",
          "2020-06-09T00:00:00",
          "2020-06-10T00:00:00",
          "2020-06-11T00:00:00",
          "2020-06-12T00:00:00",
          "2020-06-13T00:00:00",
          "2020-06-14T00:00:00",
          "2020-06-15T00:00:00",
          "2020-06-16T00:00:00",
          "2020-06-17T00:00:00",
          "2020-06-18T00:00:00",
          "2020-06-19T00:00:00",
          "2020-06-20T00:00:00",
          "2020-06-21T00:00:00",
          "2020-06-22T00:00:00",
          "2020-06-23T00:00:00",
          "2020-06-24T00:00:00",
          "2020-06-25T00:00:00",
          "2020-06-26T00:00:00",
          "2020-06-27T00:00:00",
          "2020-06-28T00:00:00",
          "2020-06-29T00:00:00",
          "2020-06-30T00:00:00",
          "2020-07-01T00:00:00",
          "2020-07-02T00:00:00",
          "2020-07-03T00:00:00",
          "2020-07-04T00:00:00",
          "2020-07-05T00:00:00",
          "2020-07-06T00:00:00",
          "2020-07-07T00:00:00",
          "2020-07-08T00:00:00",
          "2020-07-09T00:00:00",
          "2020-07-10T00:00:00",
          "2020-07-11T00:00:00",
          "2020-07-12T00:00:00",
          "2020-07-13T00:00:00",
          "2020-07-14T00:00:00",
          "2020-07-15T00:00:00",
          "2020-07-16T00:00:00",
          "2020-07-17T00:00:00",
          "2020-07-18T00:00:00",
          "2020-07-19T00:00:00",
          "2020-07-20T00:00:00",
          "2020-07-21T00:00:00",
          "2020-07-22T00:00:00",
          "2020-07-23T00:00:00",
          "2020-07-24T00:00:00",
          "2020-07-25T00:00:00",
          "2020-07-26T00:00:00",
          "2020-07-27T00:00:00",
          "2020-07-28T00:00:00",
          "2020-07-29T00:00:00",
          "2020-07-30T00:00:00",
          "2020-07-31T00:00:00",
          "2020-08-01T00:00:00",
          "2020-08-02T00:00:00",
          "2020-08-03T00:00:00",
          "2020-08-04T00:00:00",
          "2020-08-05T00:00:00",
          "2020-08-06T00:00:00",
          "2020-08-07T00:00:00",
          "2020-08-08T00:00:00",
          "2020-08-09T00:00:00",
          "2020-08-10T00:00:00",
          "2020-08-11T00:00:00",
          "2020-08-12T00:00:00",
          "2020-08-13T00:00:00",
          "2020-08-14T00:00:00",
          "2020-08-15T00:00:00",
          "2020-08-16T00:00:00",
          "2020-08-17T00:00:00",
          "2020-08-18T00:00:00",
          "2020-08-19T00:00:00",
          "2020-08-20T00:00:00",
          "2020-08-21T00:00:00",
          "2020-08-22T00:00:00",
          "2020-08-23T00:00:00",
          "2020-08-24T00:00:00",
          "2020-08-25T00:00:00",
          "2020-08-26T00:00:00",
          "2020-08-27T00:00:00",
          "2020-08-28T00:00:00",
          "2020-08-29T00:00:00",
          "2020-08-30T00:00:00",
          "2020-08-31T00:00:00",
          "2020-09-01T00:00:00",
          "2020-09-02T00:00:00",
          "2020-09-03T00:00:00",
          "2020-09-04T00:00:00",
          "2020-09-05T00:00:00",
          "2020-09-06T00:00:00",
          "2020-09-07T00:00:00",
          "2020-09-08T00:00:00",
          "2020-09-09T00:00:00",
          "2020-09-10T00:00:00",
          "2020-09-11T00:00:00",
          "2020-09-12T00:00:00",
          "2020-09-13T00:00:00",
          "2020-09-14T00:00:00",
          "2020-09-15T00:00:00",
          "2020-09-16T00:00:00",
          "2020-09-17T00:00:00",
          "2020-09-18T00:00:00",
          "2020-09-19T00:00:00",
          "2020-09-20T00:00:00",
          "2020-09-21T00:00:00",
          "2020-09-22T00:00:00",
          "2020-09-23T00:00:00",
          "2020-09-24T00:00:00",
          "2020-09-25T00:00:00",
          "2020-09-26T00:00:00",
          "2020-09-27T00:00:00",
          "2020-09-28T00:00:00",
          "2020-09-29T00:00:00",
          "2020-09-30T00:00:00",
          "2020-10-01T00:00:00",
          "2020-10-02T00:00:00",
          "2020-10-03T00:00:00",
          "2020-10-04T00:00:00",
          "2020-10-05T00:00:00",
          "2020-10-06T00:00:00",
          "2020-10-07T00:00:00",
          "2020-10-08T00:00:00",
          "2020-10-09T00:00:00",
          "2020-10-10T00:00:00",
          "2020-10-11T00:00:00",
          "2020-10-12T00:00:00",
          "2020-10-13T00:00:00",
          "2020-10-14T00:00:00",
          "2020-10-15T00:00:00",
          "2020-10-16T00:00:00",
          "2020-10-17T00:00:00",
          "2020-10-18T00:00:00",
          "2020-10-19T00:00:00",
          "2020-10-20T00:00:00",
          "2020-10-21T00:00:00",
          "2020-10-22T00:00:00",
          "2020-10-23T00:00:00",
          "2020-10-24T00:00:00",
          "2020-10-25T00:00:00",
          "2020-10-26T00:00:00",
          "2020-10-27T00:00:00",
          "2020-10-28T00:00:00",
          "2020-10-29T00:00:00",
          "2020-10-30T00:00:00",
          "2020-10-31T00:00:00",
          "2020-11-01T00:00:00",
          "2020-11-02T00:00:00",
          "2020-11-03T00:00:00",
          "2020-11-04T00:00:00",
          "2020-11-05T00:00:00",
          "2020-11-06T00:00:00",
          "2020-11-07T00:00:00",
          "2020-11-08T00:00:00",
          "2020-11-09T00:00:00",
          "2020-11-10T00:00:00",
          "2020-11-11T00:00:00",
          "2020-11-12T00:00:00",
          "2020-11-13T00:00:00",
          "2020-11-14T00:00:00",
          "2020-11-15T00:00:00",
          "2020-11-16T00:00:00",
          "2020-11-17T00:00:00",
          "2020-11-18T00:00:00",
          "2020-11-19T00:00:00",
          "2020-11-20T00:00:00",
          "2020-11-21T00:00:00",
          "2020-11-22T00:00:00",
          "2020-11-23T00:00:00",
          "2020-11-24T00:00:00",
          "2020-11-25T00:00:00",
          "2020-11-26T00:00:00",
          "2020-11-27T00:00:00",
          "2020-11-28T00:00:00",
          "2020-11-29T00:00:00",
          "2020-11-30T00:00:00",
          "2020-12-01T00:00:00",
          "2020-12-02T00:00:00",
          "2020-12-03T00:00:00",
          "2020-12-04T00:00:00",
          "2020-12-05T00:00:00",
          "2020-12-06T00:00:00",
          "2020-12-07T00:00:00",
          "2020-12-08T00:00:00",
          "2020-12-09T00:00:00",
          "2020-12-10T00:00:00",
          "2020-12-11T00:00:00",
          "2020-12-12T00:00:00",
          "2020-12-13T00:00:00",
          "2020-12-14T00:00:00",
          "2020-12-15T00:00:00",
          "2020-12-16T00:00:00",
          "2020-12-17T00:00:00",
          "2020-12-18T00:00:00",
          "2020-12-19T00:00:00",
          "2020-12-20T00:00:00",
          "2020-12-21T00:00:00",
          "2020-12-22T00:00:00",
          "2020-12-23T00:00:00",
          "2020-12-24T00:00:00",
          "2020-12-25T00:00:00",
          "2020-12-26T00:00:00",
          "2020-12-27T00:00:00",
          "2020-12-28T00:00:00",
          "2020-12-29T00:00:00",
          "2020-12-30T00:00:00",
          "2020-12-31T00:00:00"
         ],
         "xaxis": "x3",
         "y": [
          195.738972,
          237.253549,
          220.696278,
          168.593999,
          154.804485,
          228.454275,
          232.502275,
          224.634064,
          222.381043,
          214.735476,
          166.581833,
          152.497914,
          222.772273,
          227.56059,
          221.770093,
          223.784345,
          216.695498,
          168.628091,
          157.239383,
          236.622189,
          250.061219,
          248.239659,
          251.243934,
          242.588623,
          177.226075,
          157.474515,
          237.472548,
          245.855248,
          239.826324,
          237.817094,
          222.692646,
          159.122001,
          140.823576,
          205.998484,
          222.562974,
          224.582608,
          232.652743,
          226.331963,
          167.48058,
          148.275222,
          212.298286,
          222.727341,
          223.983791,
          224.570246,
          213.738451,
          159.75053,
          141.016691,
          207.538967,
          218.55395,
          218.639391,
          220.652653,
          214.732007,
          159.663848,
          141.543557,
          204.289558,
          215.811202,
          221.031143,
          224.321287,
          217.560741,
          160.795673,
          146.718327,
          210.717204,
          222.546488,
          220.389167,
          218.748268,
          214.05765,
          158.774872,
          140.811209,
          201.626695,
          202.47796,
          193.053828,
          194.457291,
          191.254909,
          143.444761,
          129.528163,
          182.072527,
          189.288098,
          181.925017,
          177.191365,
          170.670656,
          129.427884,
          120.979296,
          175.272397,
          188.738273,
          190.352137,
          194.246564,
          184.927347,
          133.12254,
          119.442399,
          188.197484,
          198.579247,
          135.556357,
          136.481293,
          128.56127,
          91.592546,
          83.494834,
          113.513925,
          120.313423,
          117.106808,
          116.541819,
          110.397035,
          80.352829,
          76.055822,
          87.767017,
          117.775428,
          118.913089,
          117.10016,
          110.161468,
          80.333537,
          74.932616,
          104.346187,
          112.703257,
          115.300326,
          114.923171,
          109.203075,
          80.695023,
          74.402202,
          104.720223,
          115.149725,
          119.575097,
          120.422854,
          97.286132,
          84.2313,
          74.983593,
          105.446093,
          115.53923,
          117.490944,
          115.178476,
          95.20165,
          82.675427,
          73.272503,
          106.317098,
          121.98365,
          125.68843,
          124.315117,
          117.826806,
          86.694538,
          74.389482,
          104.981697,
          117.952032,
          119.726989,
          98.497751,
          82.978483,
          82.898301,
          71.948003,
          104.606771,
          119.879997,
          119.672578,
          117.305361,
          113.281654,
          82.841268,
          70.970505,
          86.718264,
          117.182487,
          117.336185,
          116.019168,
          112.496923,
          81.986639,
          70.107764,
          101.224347,
          116.026819,
          115.822029,
          115.831522,
          111.618929,
          80.751196,
          69.612192,
          102.63805,
          116.036153,
          114.786401,
          114.271946,
          110.554163,
          79.493892,
          69.49557,
          102.492389,
          114.187583,
          113.261691,
          113.657897,
          109.668357,
          78.606559,
          68.816198,
          102.626618,
          114.735996,
          115.562903,
          116.077454,
          111.109814,
          79.627296,
          70.313288,
          105.58471,
          115.556584,
          113.872988,
          114.809396,
          110.418892,
          79.059152,
          70.053235,
          77.768727,
          97.940132,
          112.070674,
          112.523546,
          107.648755,
          77.81851,
          69.13775,
          101.253735,
          110.213709,
          109.148319,
          108.762079,
          104.313571,
          75.971658,
          67.810722,
          97.725325,
          107.008181,
          105.316164,
          105.104677,
          101.408002,
          76.478397,
          70.332594,
          99.043322,
          107.298119,
          106.515119,
          106.812139,
          104.074594,
          76.046675,
          70.612316,
          99.455427,
          107.709498,
          106.85792,
          107.431026,
          104.495159,
          71.281102,
          70.737875,
          98.820917,
          107.750075,
          106.710495,
          107.546359,
          105.840255,
          75.618331,
          71.120291,
          98.337321,
          107.56469,
          107.161057,
          108.935691,
          107.04845,
          75.281715,
          70.187379,
          101.133957,
          104.712477,
          105.061391,
          106.437386,
          104.084558,
          72.699012,
          66.910497,
          100.282245,
          109.675851,
          109.472647,
          111.045147,
          108.074312,
          75.594649,
          68.441625,
          105.21267,
          115.110542,
          114.364194,
          116.22913,
          112.606293,
          77.1893,
          70.095087,
          108.207506,
          118.396278,
          118.320053,
          119.361155,
          114.540909,
          79.958557,
          72.831031,
          113.96543,
          123.018494,
          120.642096,
          136.871583,
          131.955377,
          93.107793,
          83.329151,
          130.198003,
          140.732619,
          138.462914,
          140.197292,
          132.566009,
          94.442876,
          86.558241,
          137.402542,
          150.651461,
          149.925873,
          155.186215,
          148.037779,
          102.681912,
          92.192769,
          139.925129,
          147.610911,
          138.021363,
          139.77602,
          133.298614,
          93.681096,
          90.61724,
          135.941716,
          148.115497,
          141.326134,
          145.447756,
          134.819931,
          95.978281,
          88.30436,
          126.492915,
          141.269142,
          143.74236,
          152.345921,
          142.623143,
          99.559023,
          90.721095,
          132.913503,
          142.780036,
          118.805717,
          145.613278,
          136.85628,
          97.346911,
          90.273969,
          135.049807,
          144.889303,
          143.414608,
          149.846093,
          146.771926,
          109.924037,
          104.786716,
          153.225386,
          161.345277,
          156.459462,
          158.939953,
          148.756818,
          109.555475,
          105.704568,
          156.920749,
          168.869961,
          167.763552,
          170.298264,
          164.877903,
          120.98379,
          112.589123,
          165.827748,
          172.313428,
          171.958515,
          171.068509,
          160.629119,
          116.138529,
          108.36612,
          152.278791,
          155.021823,
          154.388192,
          154.59202,
          147.562905,
          109.475797,
          102.5984,
          144.234582,
          145.101909,
          144.320478,
          150.592686,
          132.396681,
          117.698683,
          111.044125,
          157.596158,
          164.322099,
          164.91991,
          166.59285
         ],
         "yaxis": "y3"
        }
       ],
       "layout": {
        "annotations": [
         {
          "font": {
           "size": 16
          },
          "showarrow": false,
          "text": "RES",
          "x": 0.14444444444444446,
          "xanchor": "center",
          "xref": "paper",
          "y": 1,
          "yanchor": "bottom",
          "yref": "paper"
         },
         {
          "font": {
           "size": 16
          },
          "showarrow": false,
          "text": "PRO",
          "x": 0.5,
          "xanchor": "center",
          "xref": "paper",
          "y": 1,
          "yanchor": "bottom",
          "yref": "paper"
         },
         {
          "font": {
           "size": 16
          },
          "showarrow": false,
          "text": "ENT",
          "x": 0.8555555555555556,
          "xanchor": "center",
          "xref": "paper",
          "y": 1,
          "yanchor": "bottom",
          "yref": "paper"
         }
        ],
        "height": 500,
        "showlegend": false,
        "template": {
         "data": {
          "bar": [
           {
            "error_x": {
             "color": "#2a3f5f"
            },
            "error_y": {
             "color": "#2a3f5f"
            },
            "marker": {
             "line": {
              "color": "#E5ECF6",
              "width": 0.5
             },
             "pattern": {
              "fillmode": "overlay",
              "size": 10,
              "solidity": 0.2
             }
            },
            "type": "bar"
           }
          ],
          "barpolar": [
           {
            "marker": {
             "line": {
              "color": "#E5ECF6",
              "width": 0.5
             },
             "pattern": {
              "fillmode": "overlay",
              "size": 10,
              "solidity": 0.2
             }
            },
            "type": "barpolar"
           }
          ],
          "carpet": [
           {
            "aaxis": {
             "endlinecolor": "#2a3f5f",
             "gridcolor": "white",
             "linecolor": "white",
             "minorgridcolor": "white",
             "startlinecolor": "#2a3f5f"
            },
            "baxis": {
             "endlinecolor": "#2a3f5f",
             "gridcolor": "white",
             "linecolor": "white",
             "minorgridcolor": "white",
             "startlinecolor": "#2a3f5f"
            },
            "type": "carpet"
           }
          ],
          "choropleth": [
           {
            "colorbar": {
             "outlinewidth": 0,
             "ticks": ""
            },
            "type": "choropleth"
           }
          ],
          "contour": [
           {
            "colorbar": {
             "outlinewidth": 0,
             "ticks": ""
            },
            "colorscale": [
             [
              0,
              "#0d0887"
             ],
             [
              0.1111111111111111,
              "#46039f"
             ],
             [
              0.2222222222222222,
              "#7201a8"
             ],
             [
              0.3333333333333333,
              "#9c179e"
             ],
             [
              0.4444444444444444,
              "#bd3786"
             ],
             [
              0.5555555555555556,
              "#d8576b"
             ],
             [
              0.6666666666666666,
              "#ed7953"
             ],
             [
              0.7777777777777778,
              "#fb9f3a"
             ],
             [
              0.8888888888888888,
              "#fdca26"
             ],
             [
              1,
              "#f0f921"
             ]
            ],
            "type": "contour"
           }
          ],
          "contourcarpet": [
           {
            "colorbar": {
             "outlinewidth": 0,
             "ticks": ""
            },
            "type": "contourcarpet"
           }
          ],
          "heatmap": [
           {
            "colorbar": {
             "outlinewidth": 0,
             "ticks": ""
            },
            "colorscale": [
             [
              0,
              "#0d0887"
             ],
             [
              0.1111111111111111,
              "#46039f"
             ],
             [
              0.2222222222222222,
              "#7201a8"
             ],
             [
              0.3333333333333333,
              "#9c179e"
             ],
             [
              0.4444444444444444,
              "#bd3786"
             ],
             [
              0.5555555555555556,
              "#d8576b"
             ],
             [
              0.6666666666666666,
              "#ed7953"
             ],
             [
              0.7777777777777778,
              "#fb9f3a"
             ],
             [
              0.8888888888888888,
              "#fdca26"
             ],
             [
              1,
              "#f0f921"
             ]
            ],
            "type": "heatmap"
           }
          ],
          "heatmapgl": [
           {
            "colorbar": {
             "outlinewidth": 0,
             "ticks": ""
            },
            "colorscale": [
             [
              0,
              "#0d0887"
             ],
             [
              0.1111111111111111,
              "#46039f"
             ],
             [
              0.2222222222222222,
              "#7201a8"
             ],
             [
              0.3333333333333333,
              "#9c179e"
             ],
             [
              0.4444444444444444,
              "#bd3786"
             ],
             [
              0.5555555555555556,
              "#d8576b"
             ],
             [
              0.6666666666666666,
              "#ed7953"
             ],
             [
              0.7777777777777778,
              "#fb9f3a"
             ],
             [
              0.8888888888888888,
              "#fdca26"
             ],
             [
              1,
              "#f0f921"
             ]
            ],
            "type": "heatmapgl"
           }
          ],
          "histogram": [
           {
            "marker": {
             "pattern": {
              "fillmode": "overlay",
              "size": 10,
              "solidity": 0.2
             }
            },
            "type": "histogram"
           }
          ],
          "histogram2d": [
           {
            "colorbar": {
             "outlinewidth": 0,
             "ticks": ""
            },
            "colorscale": [
             [
              0,
              "#0d0887"
             ],
             [
              0.1111111111111111,
              "#46039f"
             ],
             [
              0.2222222222222222,
              "#7201a8"
             ],
             [
              0.3333333333333333,
              "#9c179e"
             ],
             [
              0.4444444444444444,
              "#bd3786"
             ],
             [
              0.5555555555555556,
              "#d8576b"
             ],
             [
              0.6666666666666666,
              "#ed7953"
             ],
             [
              0.7777777777777778,
              "#fb9f3a"
             ],
             [
              0.8888888888888888,
              "#fdca26"
             ],
             [
              1,
              "#f0f921"
             ]
            ],
            "type": "histogram2d"
           }
          ],
          "histogram2dcontour": [
           {
            "colorbar": {
             "outlinewidth": 0,
             "ticks": ""
            },
            "colorscale": [
             [
              0,
              "#0d0887"
             ],
             [
              0.1111111111111111,
              "#46039f"
             ],
             [
              0.2222222222222222,
              "#7201a8"
             ],
             [
              0.3333333333333333,
              "#9c179e"
             ],
             [
              0.4444444444444444,
              "#bd3786"
             ],
             [
              0.5555555555555556,
              "#d8576b"
             ],
             [
              0.6666666666666666,
              "#ed7953"
             ],
             [
              0.7777777777777778,
              "#fb9f3a"
             ],
             [
              0.8888888888888888,
              "#fdca26"
             ],
             [
              1,
              "#f0f921"
             ]
            ],
            "type": "histogram2dcontour"
           }
          ],
          "mesh3d": [
           {
            "colorbar": {
             "outlinewidth": 0,
             "ticks": ""
            },
            "type": "mesh3d"
           }
          ],
          "parcoords": [
           {
            "line": {
             "colorbar": {
              "outlinewidth": 0,
              "ticks": ""
             }
            },
            "type": "parcoords"
           }
          ],
          "pie": [
           {
            "automargin": true,
            "type": "pie"
           }
          ],
          "scatter": [
           {
            "fillpattern": {
             "fillmode": "overlay",
             "size": 10,
             "solidity": 0.2
            },
            "type": "scatter"
           }
          ],
          "scatter3d": [
           {
            "line": {
             "colorbar": {
              "outlinewidth": 0,
              "ticks": ""
             }
            },
            "marker": {
             "colorbar": {
              "outlinewidth": 0,
              "ticks": ""
             }
            },
            "type": "scatter3d"
           }
          ],
          "scattercarpet": [
           {
            "marker": {
             "colorbar": {
              "outlinewidth": 0,
              "ticks": ""
             }
            },
            "type": "scattercarpet"
           }
          ],
          "scattergeo": [
           {
            "marker": {
             "colorbar": {
              "outlinewidth": 0,
              "ticks": ""
             }
            },
            "type": "scattergeo"
           }
          ],
          "scattergl": [
           {
            "marker": {
             "colorbar": {
              "outlinewidth": 0,
              "ticks": ""
             }
            },
            "type": "scattergl"
           }
          ],
          "scattermapbox": [
           {
            "marker": {
             "colorbar": {
              "outlinewidth": 0,
              "ticks": ""
             }
            },
            "type": "scattermapbox"
           }
          ],
          "scatterpolar": [
           {
            "marker": {
             "colorbar": {
              "outlinewidth": 0,
              "ticks": ""
             }
            },
            "type": "scatterpolar"
           }
          ],
          "scatterpolargl": [
           {
            "marker": {
             "colorbar": {
              "outlinewidth": 0,
              "ticks": ""
             }
            },
            "type": "scatterpolargl"
           }
          ],
          "scatterternary": [
           {
            "marker": {
             "colorbar": {
              "outlinewidth": 0,
              "ticks": ""
             }
            },
            "type": "scatterternary"
           }
          ],
          "surface": [
           {
            "colorbar": {
             "outlinewidth": 0,
             "ticks": ""
            },
            "colorscale": [
             [
              0,
              "#0d0887"
             ],
             [
              0.1111111111111111,
              "#46039f"
             ],
             [
              0.2222222222222222,
              "#7201a8"
             ],
             [
              0.3333333333333333,
              "#9c179e"
             ],
             [
              0.4444444444444444,
              "#bd3786"
             ],
             [
              0.5555555555555556,
              "#d8576b"
             ],
             [
              0.6666666666666666,
              "#ed7953"
             ],
             [
              0.7777777777777778,
              "#fb9f3a"
             ],
             [
              0.8888888888888888,
              "#fdca26"
             ],
             [
              1,
              "#f0f921"
             ]
            ],
            "type": "surface"
           }
          ],
          "table": [
           {
            "cells": {
             "fill": {
              "color": "#EBF0F8"
             },
             "line": {
              "color": "white"
             }
            },
            "header": {
             "fill": {
              "color": "#C8D4E3"
             },
             "line": {
              "color": "white"
             }
            },
            "type": "table"
           }
          ]
         },
         "layout": {
          "annotationdefaults": {
           "arrowcolor": "#2a3f5f",
           "arrowhead": 0,
           "arrowwidth": 1
          },
          "autotypenumbers": "strict",
          "coloraxis": {
           "colorbar": {
            "outlinewidth": 0,
            "ticks": ""
           }
          },
          "colorscale": {
           "diverging": [
            [
             0,
             "#8e0152"
            ],
            [
             0.1,
             "#c51b7d"
            ],
            [
             0.2,
             "#de77ae"
            ],
            [
             0.3,
             "#f1b6da"
            ],
            [
             0.4,
             "#fde0ef"
            ],
            [
             0.5,
             "#f7f7f7"
            ],
            [
             0.6,
             "#e6f5d0"
            ],
            [
             0.7,
             "#b8e186"
            ],
            [
             0.8,
             "#7fbc41"
            ],
            [
             0.9,
             "#4d9221"
            ],
            [
             1,
             "#276419"
            ]
           ],
           "sequential": [
            [
             0,
             "#0d0887"
            ],
            [
             0.1111111111111111,
             "#46039f"
            ],
            [
             0.2222222222222222,
             "#7201a8"
            ],
            [
             0.3333333333333333,
             "#9c179e"
            ],
            [
             0.4444444444444444,
             "#bd3786"
            ],
            [
             0.5555555555555556,
             "#d8576b"
            ],
            [
             0.6666666666666666,
             "#ed7953"
            ],
            [
             0.7777777777777778,
             "#fb9f3a"
            ],
            [
             0.8888888888888888,
             "#fdca26"
            ],
            [
             1,
             "#f0f921"
            ]
           ],
           "sequentialminus": [
            [
             0,
             "#0d0887"
            ],
            [
             0.1111111111111111,
             "#46039f"
            ],
            [
             0.2222222222222222,
             "#7201a8"
            ],
            [
             0.3333333333333333,
             "#9c179e"
            ],
            [
             0.4444444444444444,
             "#bd3786"
            ],
            [
             0.5555555555555556,
             "#d8576b"
            ],
            [
             0.6666666666666666,
             "#ed7953"
            ],
            [
             0.7777777777777778,
             "#fb9f3a"
            ],
            [
             0.8888888888888888,
             "#fdca26"
            ],
            [
             1,
             "#f0f921"
            ]
           ]
          },
          "colorway": [
           "#636efa",
           "#EF553B",
           "#00cc96",
           "#ab63fa",
           "#FFA15A",
           "#19d3f3",
           "#FF6692",
           "#B6E880",
           "#FF97FF",
           "#FECB52"
          ],
          "font": {
           "color": "#2a3f5f"
          },
          "geo": {
           "bgcolor": "white",
           "lakecolor": "white",
           "landcolor": "#E5ECF6",
           "showlakes": true,
           "showland": true,
           "subunitcolor": "white"
          },
          "hoverlabel": {
           "align": "left"
          },
          "hovermode": "closest",
          "mapbox": {
           "style": "light"
          },
          "paper_bgcolor": "white",
          "plot_bgcolor": "#E5ECF6",
          "polar": {
           "angularaxis": {
            "gridcolor": "white",
            "linecolor": "white",
            "ticks": ""
           },
           "bgcolor": "#E5ECF6",
           "radialaxis": {
            "gridcolor": "white",
            "linecolor": "white",
            "ticks": ""
           }
          },
          "scene": {
           "xaxis": {
            "backgroundcolor": "#E5ECF6",
            "gridcolor": "white",
            "gridwidth": 2,
            "linecolor": "white",
            "showbackground": true,
            "ticks": "",
            "zerolinecolor": "white"
           },
           "yaxis": {
            "backgroundcolor": "#E5ECF6",
            "gridcolor": "white",
            "gridwidth": 2,
            "linecolor": "white",
            "showbackground": true,
            "ticks": "",
            "zerolinecolor": "white"
           },
           "zaxis": {
            "backgroundcolor": "#E5ECF6",
            "gridcolor": "white",
            "gridwidth": 2,
            "linecolor": "white",
            "showbackground": true,
            "ticks": "",
            "zerolinecolor": "white"
           }
          },
          "shapedefaults": {
           "line": {
            "color": "#2a3f5f"
           }
          },
          "ternary": {
           "aaxis": {
            "gridcolor": "white",
            "linecolor": "white",
            "ticks": ""
           },
           "baxis": {
            "gridcolor": "white",
            "linecolor": "white",
            "ticks": ""
           },
           "bgcolor": "#E5ECF6",
           "caxis": {
            "gridcolor": "white",
            "linecolor": "white",
            "ticks": ""
           }
          },
          "title": {
           "x": 0.05
          },
          "xaxis": {
           "automargin": true,
           "gridcolor": "white",
           "linecolor": "white",
           "ticks": "",
           "title": {
            "standoff": 15
           },
           "zerolinecolor": "white",
           "zerolinewidth": 2
          },
          "yaxis": {
           "automargin": true,
           "gridcolor": "white",
           "linecolor": "white",
           "ticks": "",
           "title": {
            "standoff": 15
           },
           "zerolinecolor": "white",
           "zerolinewidth": 2
          }
         }
        },
        "title": {
         "text": "Energie soutirée par profil"
        },
        "width": 1500,
        "xaxis": {
         "anchor": "y",
         "domain": [
          0,
          0.2888888888888889
         ],
         "title": {
          "text": "date"
         }
        },
        "xaxis2": {
         "anchor": "y2",
         "domain": [
          0.35555555555555557,
          0.6444444444444445
         ],
         "title": {
          "text": "date"
         }
        },
        "xaxis3": {
         "anchor": "y3",
         "domain": [
          0.7111111111111111,
          1
         ],
         "title": {
          "text": "date"
         }
        },
        "yaxis": {
         "anchor": "x",
         "domain": [
          0,
          1
         ],
         "range": [
          0,
          203112.892281
         ],
         "title": {
          "text": "Energie soutirée (MWh)"
         }
        },
        "yaxis2": {
         "anchor": "x2",
         "domain": [
          0,
          1
         ],
         "range": [
          0,
          57635.4641
         ],
         "title": {
          "text": "Energie soutirée (MWh)"
         }
        },
        "yaxis3": {
         "anchor": "x3",
         "domain": [
          0,
          1
         ],
         "range": [
          0,
          251.243934
         ],
         "title": {
          "text": "Energie soutirée (MWh)"
         }
        }
       }
      }
     },
     "metadata": {},
     "output_type": "display_data"
    }
   ],
   "source": [
    "# multiple subplots for each category of profile\n",
    "fig = make_subplots(\n",
    "    rows=1, cols=3,\n",
    "    subplot_titles=(\"RES\", \"PRO\", \"ENT\"))\n",
    "\n",
    "fig.add_trace(go.Line(x=agg_idf2020[agg_idf2020[\"Catégorie profil\"] == \"RES\"][\"date\"], y=agg_idf2020[agg_idf2020[\"Catégorie profil\"] == \"RES\"][\"Total énergie soutirée (MWh)\"]),\n",
    "              row=1, col=1)\n",
    "\n",
    "fig.add_trace(go.Line(x=agg_idf2020[agg_idf2020[\"Catégorie profil\"] == \"PRO\"][\"date\"], y=agg_idf2020[agg_idf2020[\"Catégorie profil\"] == \"PRO\"][\"Total énergie soutirée (MWh)\"]),\n",
    "              row=1, col=2)\n",
    "\n",
    "fig.add_trace(go.Line(x=agg_idf2020[agg_idf2020[\"Catégorie profil\"] == \"ENT\"][\"date\"], y=agg_idf2020[agg_idf2020[\"Catégorie profil\"] == \"ENT\"][\"Total énergie soutirée (MWh)\"]),\n",
    "              row=1, col=3)\n",
    "\n",
    "fig.update_layout(height=500, width=1500,\n",
    "                  title_text=\"Energie soutirée par profil\")\n",
    "\n",
    "fig.update_xaxes(title_text=\"date\")\n",
    "fig.update_yaxes(title_text=\"Energie soutirée (MWh)\")\n",
    "# remove legend\n",
    "fig.update_layout(showlegend=False)\n",
    "#y axis scale from 0 to max value of each subplot\n",
    "fig.update_yaxes(range=[0, agg_idf2020[agg_idf2020[\"Catégorie profil\"] == \"RES\"][\"Total énergie soutirée (MWh)\"].max()], row=1, col=1)\n",
    "fig.update_yaxes(range=[0, agg_idf2020[agg_idf2020[\"Catégorie profil\"] == \"PRO\"][\"Total énergie soutirée (MWh)\"].max()], row=1, col=2)\n",
    "fig.update_yaxes(range=[0, agg_idf2020[agg_idf2020[\"Catégorie profil\"] == \"ENT\"][\"Total énergie soutirée (MWh)\"].max()], row=1, col=3)\n",
    "# change color of each subplot\n",
    "fig.update_traces(line_color='rgb(88, 128, 97)', row=1, col=1)\n",
    "fig.update_traces(line_color='rgb(253, 233, 234)', row=1, col=2)\n",
    "fig.update_traces(line_color='rgb(231, 181, 172)', row=1, col=3)\n",
    "\n",
    "fig.show()"
   ]
  },
  {
   "cell_type": "code",
   "execution_count": 31,
   "metadata": {},
   "outputs": [
    {
     "data": {
      "text/html": [
       "<div>\n",
       "<style scoped>\n",
       "    .dataframe tbody tr th:only-of-type {\n",
       "        vertical-align: middle;\n",
       "    }\n",
       "\n",
       "    .dataframe tbody tr th {\n",
       "        vertical-align: top;\n",
       "    }\n",
       "\n",
       "    .dataframe thead th {\n",
       "        text-align: right;\n",
       "    }\n",
       "</style>\n",
       "<table border=\"1\" class=\"dataframe\">\n",
       "  <thead>\n",
       "    <tr style=\"text-align: right;\">\n",
       "      <th></th>\n",
       "      <th>Horodate</th>\n",
       "      <th>Région</th>\n",
       "      <th>Code région</th>\n",
       "      <th>Profil</th>\n",
       "      <th>Plage de puissance souscrite</th>\n",
       "      <th>Nb points soutirage</th>\n",
       "      <th>Total énergie soutirée (Wh)</th>\n",
       "      <th>year</th>\n",
       "      <th>month</th>\n",
       "      <th>day</th>\n",
       "      <th>time</th>\n",
       "      <th>date</th>\n",
       "      <th>Catégorie profil</th>\n",
       "    </tr>\n",
       "  </thead>\n",
       "  <tbody>\n",
       "    <tr>\n",
       "      <th>0</th>\n",
       "      <td>2020-12-31T23:30:00+01:00</td>\n",
       "      <td>Île-de-France</td>\n",
       "      <td>11</td>\n",
       "      <td>PRO1 (+ PRO1WE)</td>\n",
       "      <td>P0: Total &lt;= 36 kVA</td>\n",
       "      <td>599509</td>\n",
       "      <td>265804753.0</td>\n",
       "      <td>2020</td>\n",
       "      <td>12</td>\n",
       "      <td>31</td>\n",
       "      <td>23:30:00</td>\n",
       "      <td>2020-12-31</td>\n",
       "      <td>PRO</td>\n",
       "    </tr>\n",
       "    <tr>\n",
       "      <th>1</th>\n",
       "      <td>2020-12-31T23:30:00+01:00</td>\n",
       "      <td>Île-de-France</td>\n",
       "      <td>11</td>\n",
       "      <td>PRO3</td>\n",
       "      <td>P1: ]0-9] kVA</td>\n",
       "      <td>693</td>\n",
       "      <td>531253.0</td>\n",
       "      <td>2020</td>\n",
       "      <td>12</td>\n",
       "      <td>31</td>\n",
       "      <td>23:30:00</td>\n",
       "      <td>2020-12-31</td>\n",
       "      <td>PRO</td>\n",
       "    </tr>\n",
       "    <tr>\n",
       "      <th>2</th>\n",
       "      <td>2020-12-31T23:30:00+01:00</td>\n",
       "      <td>Île-de-France</td>\n",
       "      <td>11</td>\n",
       "      <td>PRO3</td>\n",
       "      <td>P4: ]9-12] kVA</td>\n",
       "      <td>951</td>\n",
       "      <td>NaN</td>\n",
       "      <td>2020</td>\n",
       "      <td>12</td>\n",
       "      <td>31</td>\n",
       "      <td>23:30:00</td>\n",
       "      <td>2020-12-31</td>\n",
       "      <td>PRO</td>\n",
       "    </tr>\n",
       "    <tr>\n",
       "      <th>3</th>\n",
       "      <td>2020-12-31T23:30:00+01:00</td>\n",
       "      <td>Île-de-France</td>\n",
       "      <td>11</td>\n",
       "      <td>RES1 (+ RES1WE)</td>\n",
       "      <td>P0: Total &lt;= 36 kVA</td>\n",
       "      <td>3393732</td>\n",
       "      <td>569277982.0</td>\n",
       "      <td>2020</td>\n",
       "      <td>12</td>\n",
       "      <td>31</td>\n",
       "      <td>23:30:00</td>\n",
       "      <td>2020-12-31</td>\n",
       "      <td>RES</td>\n",
       "    </tr>\n",
       "    <tr>\n",
       "      <th>4</th>\n",
       "      <td>2020-12-31T23:30:00+01:00</td>\n",
       "      <td>Île-de-France</td>\n",
       "      <td>11</td>\n",
       "      <td>RES2 (+ RES5)</td>\n",
       "      <td>P7: ]18-24] kVA</td>\n",
       "      <td>6406</td>\n",
       "      <td>16800256.0</td>\n",
       "      <td>2020</td>\n",
       "      <td>12</td>\n",
       "      <td>31</td>\n",
       "      <td>23:30:00</td>\n",
       "      <td>2020-12-31</td>\n",
       "      <td>RES</td>\n",
       "    </tr>\n",
       "  </tbody>\n",
       "</table>\n",
       "</div>"
      ],
      "text/plain": [
       "                    Horodate         Région  Code région           Profil  \\\n",
       "0  2020-12-31T23:30:00+01:00  Île-de-France           11  PRO1 (+ PRO1WE)   \n",
       "1  2020-12-31T23:30:00+01:00  Île-de-France           11             PRO3   \n",
       "2  2020-12-31T23:30:00+01:00  Île-de-France           11             PRO3   \n",
       "3  2020-12-31T23:30:00+01:00  Île-de-France           11  RES1 (+ RES1WE)   \n",
       "4  2020-12-31T23:30:00+01:00  Île-de-France           11    RES2 (+ RES5)   \n",
       "\n",
       "  Plage de puissance souscrite  Nb points soutirage  \\\n",
       "0          P0: Total <= 36 kVA               599509   \n",
       "1                P1: ]0-9] kVA                  693   \n",
       "2               P4: ]9-12] kVA                  951   \n",
       "3          P0: Total <= 36 kVA              3393732   \n",
       "4              P7: ]18-24] kVA                 6406   \n",
       "\n",
       "   Total énergie soutirée (Wh)  year month day      time       date  \\\n",
       "0                  265804753.0  2020    12  31  23:30:00 2020-12-31   \n",
       "1                     531253.0  2020    12  31  23:30:00 2020-12-31   \n",
       "2                          NaN  2020    12  31  23:30:00 2020-12-31   \n",
       "3                  569277982.0  2020    12  31  23:30:00 2020-12-31   \n",
       "4                   16800256.0  2020    12  31  23:30:00 2020-12-31   \n",
       "\n",
       "  Catégorie profil  \n",
       "0              PRO  \n",
       "1              PRO  \n",
       "2              PRO  \n",
       "3              RES  \n",
       "4              RES  "
      ]
     },
     "execution_count": 31,
     "metadata": {},
     "output_type": "execute_result"
    }
   ],
   "source": [
    "idf2020.head()"
   ]
  },
  {
   "cell_type": "code",
   "execution_count": 32,
   "metadata": {},
   "outputs": [],
   "source": [
    "# aggregate by month\n",
    "agg_idf2020_month = idf2020.groupby([\"month\", \"Catégorie profil\"]).agg({\"Total énergie soutirée (Wh)\": \"sum\", \"Nb points soutirage\": \"sum\"})"
   ]
  },
  {
   "cell_type": "code",
   "execution_count": 33,
   "metadata": {},
   "outputs": [],
   "source": [
    "# remove the aggregated columns\n",
    "agg_idf2020_month = agg_idf2020_month.reset_index()"
   ]
  },
  {
   "cell_type": "code",
   "execution_count": 34,
   "metadata": {},
   "outputs": [],
   "source": [
    "# convert energy in MWh\n",
    "agg_idf2020_month[\"Total énergie soutirée (MWh)\"] = agg_idf2020_month[\"Total énergie soutirée (Wh)\"] / 1000000"
   ]
  },
  {
   "cell_type": "code",
   "execution_count": 37,
   "metadata": {},
   "outputs": [
    {
     "data": {
      "text/html": [
       "<div>\n",
       "<style scoped>\n",
       "    .dataframe tbody tr th:only-of-type {\n",
       "        vertical-align: middle;\n",
       "    }\n",
       "\n",
       "    .dataframe tbody tr th {\n",
       "        vertical-align: top;\n",
       "    }\n",
       "\n",
       "    .dataframe thead th {\n",
       "        text-align: right;\n",
       "    }\n",
       "</style>\n",
       "<table border=\"1\" class=\"dataframe\">\n",
       "  <thead>\n",
       "    <tr style=\"text-align: right;\">\n",
       "      <th></th>\n",
       "      <th>month</th>\n",
       "      <th>Catégorie profil</th>\n",
       "      <th>Total énergie soutirée (Wh)</th>\n",
       "      <th>Nb points soutirage</th>\n",
       "      <th>Total énergie soutirée (MWh)</th>\n",
       "    </tr>\n",
       "  </thead>\n",
       "  <tbody>\n",
       "    <tr>\n",
       "      <th>0</th>\n",
       "      <td>01</td>\n",
       "      <td>ENT</td>\n",
       "      <td>6.604445e+09</td>\n",
       "      <td>1882272</td>\n",
       "      <td>6.604445e+03</td>\n",
       "    </tr>\n",
       "    <tr>\n",
       "      <th>1</th>\n",
       "      <td>01</td>\n",
       "      <td>PRO</td>\n",
       "      <td>1.546769e+12</td>\n",
       "      <td>2220495504</td>\n",
       "      <td>1.546769e+06</td>\n",
       "    </tr>\n",
       "    <tr>\n",
       "      <th>2</th>\n",
       "      <td>01</td>\n",
       "      <td>RES</td>\n",
       "      <td>5.435972e+12</td>\n",
       "      <td>16881876558</td>\n",
       "      <td>5.435972e+06</td>\n",
       "    </tr>\n",
       "    <tr>\n",
       "      <th>3</th>\n",
       "      <td>02</td>\n",
       "      <td>ENT</td>\n",
       "      <td>5.751049e+09</td>\n",
       "      <td>1758864</td>\n",
       "      <td>5.751049e+03</td>\n",
       "    </tr>\n",
       "    <tr>\n",
       "      <th>4</th>\n",
       "      <td>02</td>\n",
       "      <td>PRO</td>\n",
       "      <td>1.327279e+12</td>\n",
       "      <td>2079849552</td>\n",
       "      <td>1.327279e+06</td>\n",
       "    </tr>\n",
       "  </tbody>\n",
       "</table>\n",
       "</div>"
      ],
      "text/plain": [
       "  month Catégorie profil  Total énergie soutirée (Wh)  Nb points soutirage  \\\n",
       "0    01              ENT                 6.604445e+09              1882272   \n",
       "1    01              PRO                 1.546769e+12           2220495504   \n",
       "2    01              RES                 5.435972e+12          16881876558   \n",
       "3    02              ENT                 5.751049e+09              1758864   \n",
       "4    02              PRO                 1.327279e+12           2079849552   \n",
       "\n",
       "   Total énergie soutirée (MWh)  \n",
       "0                  6.604445e+03  \n",
       "1                  1.546769e+06  \n",
       "2                  5.435972e+06  \n",
       "3                  5.751049e+03  \n",
       "4                  1.327279e+06  "
      ]
     },
     "execution_count": 37,
     "metadata": {},
     "output_type": "execute_result"
    }
   ],
   "source": [
    "agg_idf2020_month.head()"
   ]
  },
  {
   "cell_type": "code",
   "execution_count": 42,
   "metadata": {},
   "outputs": [],
   "source": [
    "#writing the data to csv file\n",
    "agg_idf2020_month.to_csv(\"agg_datasets\\idf2020_month_agg.csv\", index=False)"
   ]
  },
  {
   "cell_type": "code",
   "execution_count": 41,
   "metadata": {},
   "outputs": [
    {
     "data": {
      "application/vnd.plotly.v1+json": {
       "config": {
        "plotlyServerURL": "https://plot.ly"
       },
       "data": [
        {
         "marker": {
          "color": "rgb(88, 128, 97)"
         },
         "type": "bar",
         "x": [
          "01",
          "02",
          "03",
          "04",
          "05",
          "06",
          "07",
          "08",
          "09",
          "10",
          "11",
          "12"
         ],
         "xaxis": "x",
         "y": [
          5435971.649072,
          4561214.448525,
          4731029.272365,
          3263751.635356,
          2965023.178212,
          2552686.932392,
          2428307.454899,
          2397104.715204,
          2510413.810616,
          3689821.979973,
          4294769.507682,
          5554629.873646
         ],
         "yaxis": "y"
        },
        {
         "marker": {
          "color": "rgb(253, 233, 234)"
         },
         "type": "bar",
         "x": [
          "01",
          "02",
          "03",
          "04",
          "05",
          "06",
          "07",
          "08",
          "09",
          "10",
          "11",
          "12"
         ],
         "xaxis": "x2",
         "y": [
          1546768.938407,
          1327278.888943,
          1201744.517882,
          828907.98096,
          860230.257429,
          877387.153426,
          926476.818128,
          894964.103095,
          947132.954303,
          1167025.394052,
          1161848.001559,
          1448703.845502
         ],
         "yaxis": "y2"
        },
        {
         "marker": {
          "color": "rgb(231, 181, 172)"
         },
         "type": "bar",
         "x": [
          "01",
          "02",
          "03",
          "04",
          "05",
          "06",
          "07",
          "08",
          "09",
          "10",
          "11",
          "12"
         ],
         "xaxis": "x3",
         "y": [
          6604.44451,
          5751.049464,
          5513.040023,
          3188.392416,
          3126.061859,
          3038.063927,
          3050.989948,
          2934.238265,
          3042.540522,
          3929.060097,
          3935.237831,
          4546.42265
         ],
         "yaxis": "y3"
        }
       ],
       "layout": {
        "annotations": [
         {
          "font": {
           "size": 16
          },
          "showarrow": false,
          "text": "RES",
          "x": 0.14444444444444446,
          "xanchor": "center",
          "xref": "paper",
          "y": 1,
          "yanchor": "bottom",
          "yref": "paper"
         },
         {
          "font": {
           "size": 16
          },
          "showarrow": false,
          "text": "PRO",
          "x": 0.5,
          "xanchor": "center",
          "xref": "paper",
          "y": 1,
          "yanchor": "bottom",
          "yref": "paper"
         },
         {
          "font": {
           "size": 16
          },
          "showarrow": false,
          "text": "ENT",
          "x": 0.8555555555555556,
          "xanchor": "center",
          "xref": "paper",
          "y": 1,
          "yanchor": "bottom",
          "yref": "paper"
         }
        ],
        "height": 500,
        "showlegend": false,
        "template": {
         "data": {
          "bar": [
           {
            "error_x": {
             "color": "#2a3f5f"
            },
            "error_y": {
             "color": "#2a3f5f"
            },
            "marker": {
             "line": {
              "color": "#E5ECF6",
              "width": 0.5
             },
             "pattern": {
              "fillmode": "overlay",
              "size": 10,
              "solidity": 0.2
             }
            },
            "type": "bar"
           }
          ],
          "barpolar": [
           {
            "marker": {
             "line": {
              "color": "#E5ECF6",
              "width": 0.5
             },
             "pattern": {
              "fillmode": "overlay",
              "size": 10,
              "solidity": 0.2
             }
            },
            "type": "barpolar"
           }
          ],
          "carpet": [
           {
            "aaxis": {
             "endlinecolor": "#2a3f5f",
             "gridcolor": "white",
             "linecolor": "white",
             "minorgridcolor": "white",
             "startlinecolor": "#2a3f5f"
            },
            "baxis": {
             "endlinecolor": "#2a3f5f",
             "gridcolor": "white",
             "linecolor": "white",
             "minorgridcolor": "white",
             "startlinecolor": "#2a3f5f"
            },
            "type": "carpet"
           }
          ],
          "choropleth": [
           {
            "colorbar": {
             "outlinewidth": 0,
             "ticks": ""
            },
            "type": "choropleth"
           }
          ],
          "contour": [
           {
            "colorbar": {
             "outlinewidth": 0,
             "ticks": ""
            },
            "colorscale": [
             [
              0,
              "#0d0887"
             ],
             [
              0.1111111111111111,
              "#46039f"
             ],
             [
              0.2222222222222222,
              "#7201a8"
             ],
             [
              0.3333333333333333,
              "#9c179e"
             ],
             [
              0.4444444444444444,
              "#bd3786"
             ],
             [
              0.5555555555555556,
              "#d8576b"
             ],
             [
              0.6666666666666666,
              "#ed7953"
             ],
             [
              0.7777777777777778,
              "#fb9f3a"
             ],
             [
              0.8888888888888888,
              "#fdca26"
             ],
             [
              1,
              "#f0f921"
             ]
            ],
            "type": "contour"
           }
          ],
          "contourcarpet": [
           {
            "colorbar": {
             "outlinewidth": 0,
             "ticks": ""
            },
            "type": "contourcarpet"
           }
          ],
          "heatmap": [
           {
            "colorbar": {
             "outlinewidth": 0,
             "ticks": ""
            },
            "colorscale": [
             [
              0,
              "#0d0887"
             ],
             [
              0.1111111111111111,
              "#46039f"
             ],
             [
              0.2222222222222222,
              "#7201a8"
             ],
             [
              0.3333333333333333,
              "#9c179e"
             ],
             [
              0.4444444444444444,
              "#bd3786"
             ],
             [
              0.5555555555555556,
              "#d8576b"
             ],
             [
              0.6666666666666666,
              "#ed7953"
             ],
             [
              0.7777777777777778,
              "#fb9f3a"
             ],
             [
              0.8888888888888888,
              "#fdca26"
             ],
             [
              1,
              "#f0f921"
             ]
            ],
            "type": "heatmap"
           }
          ],
          "heatmapgl": [
           {
            "colorbar": {
             "outlinewidth": 0,
             "ticks": ""
            },
            "colorscale": [
             [
              0,
              "#0d0887"
             ],
             [
              0.1111111111111111,
              "#46039f"
             ],
             [
              0.2222222222222222,
              "#7201a8"
             ],
             [
              0.3333333333333333,
              "#9c179e"
             ],
             [
              0.4444444444444444,
              "#bd3786"
             ],
             [
              0.5555555555555556,
              "#d8576b"
             ],
             [
              0.6666666666666666,
              "#ed7953"
             ],
             [
              0.7777777777777778,
              "#fb9f3a"
             ],
             [
              0.8888888888888888,
              "#fdca26"
             ],
             [
              1,
              "#f0f921"
             ]
            ],
            "type": "heatmapgl"
           }
          ],
          "histogram": [
           {
            "marker": {
             "pattern": {
              "fillmode": "overlay",
              "size": 10,
              "solidity": 0.2
             }
            },
            "type": "histogram"
           }
          ],
          "histogram2d": [
           {
            "colorbar": {
             "outlinewidth": 0,
             "ticks": ""
            },
            "colorscale": [
             [
              0,
              "#0d0887"
             ],
             [
              0.1111111111111111,
              "#46039f"
             ],
             [
              0.2222222222222222,
              "#7201a8"
             ],
             [
              0.3333333333333333,
              "#9c179e"
             ],
             [
              0.4444444444444444,
              "#bd3786"
             ],
             [
              0.5555555555555556,
              "#d8576b"
             ],
             [
              0.6666666666666666,
              "#ed7953"
             ],
             [
              0.7777777777777778,
              "#fb9f3a"
             ],
             [
              0.8888888888888888,
              "#fdca26"
             ],
             [
              1,
              "#f0f921"
             ]
            ],
            "type": "histogram2d"
           }
          ],
          "histogram2dcontour": [
           {
            "colorbar": {
             "outlinewidth": 0,
             "ticks": ""
            },
            "colorscale": [
             [
              0,
              "#0d0887"
             ],
             [
              0.1111111111111111,
              "#46039f"
             ],
             [
              0.2222222222222222,
              "#7201a8"
             ],
             [
              0.3333333333333333,
              "#9c179e"
             ],
             [
              0.4444444444444444,
              "#bd3786"
             ],
             [
              0.5555555555555556,
              "#d8576b"
             ],
             [
              0.6666666666666666,
              "#ed7953"
             ],
             [
              0.7777777777777778,
              "#fb9f3a"
             ],
             [
              0.8888888888888888,
              "#fdca26"
             ],
             [
              1,
              "#f0f921"
             ]
            ],
            "type": "histogram2dcontour"
           }
          ],
          "mesh3d": [
           {
            "colorbar": {
             "outlinewidth": 0,
             "ticks": ""
            },
            "type": "mesh3d"
           }
          ],
          "parcoords": [
           {
            "line": {
             "colorbar": {
              "outlinewidth": 0,
              "ticks": ""
             }
            },
            "type": "parcoords"
           }
          ],
          "pie": [
           {
            "automargin": true,
            "type": "pie"
           }
          ],
          "scatter": [
           {
            "fillpattern": {
             "fillmode": "overlay",
             "size": 10,
             "solidity": 0.2
            },
            "type": "scatter"
           }
          ],
          "scatter3d": [
           {
            "line": {
             "colorbar": {
              "outlinewidth": 0,
              "ticks": ""
             }
            },
            "marker": {
             "colorbar": {
              "outlinewidth": 0,
              "ticks": ""
             }
            },
            "type": "scatter3d"
           }
          ],
          "scattercarpet": [
           {
            "marker": {
             "colorbar": {
              "outlinewidth": 0,
              "ticks": ""
             }
            },
            "type": "scattercarpet"
           }
          ],
          "scattergeo": [
           {
            "marker": {
             "colorbar": {
              "outlinewidth": 0,
              "ticks": ""
             }
            },
            "type": "scattergeo"
           }
          ],
          "scattergl": [
           {
            "marker": {
             "colorbar": {
              "outlinewidth": 0,
              "ticks": ""
             }
            },
            "type": "scattergl"
           }
          ],
          "scattermapbox": [
           {
            "marker": {
             "colorbar": {
              "outlinewidth": 0,
              "ticks": ""
             }
            },
            "type": "scattermapbox"
           }
          ],
          "scatterpolar": [
           {
            "marker": {
             "colorbar": {
              "outlinewidth": 0,
              "ticks": ""
             }
            },
            "type": "scatterpolar"
           }
          ],
          "scatterpolargl": [
           {
            "marker": {
             "colorbar": {
              "outlinewidth": 0,
              "ticks": ""
             }
            },
            "type": "scatterpolargl"
           }
          ],
          "scatterternary": [
           {
            "marker": {
             "colorbar": {
              "outlinewidth": 0,
              "ticks": ""
             }
            },
            "type": "scatterternary"
           }
          ],
          "surface": [
           {
            "colorbar": {
             "outlinewidth": 0,
             "ticks": ""
            },
            "colorscale": [
             [
              0,
              "#0d0887"
             ],
             [
              0.1111111111111111,
              "#46039f"
             ],
             [
              0.2222222222222222,
              "#7201a8"
             ],
             [
              0.3333333333333333,
              "#9c179e"
             ],
             [
              0.4444444444444444,
              "#bd3786"
             ],
             [
              0.5555555555555556,
              "#d8576b"
             ],
             [
              0.6666666666666666,
              "#ed7953"
             ],
             [
              0.7777777777777778,
              "#fb9f3a"
             ],
             [
              0.8888888888888888,
              "#fdca26"
             ],
             [
              1,
              "#f0f921"
             ]
            ],
            "type": "surface"
           }
          ],
          "table": [
           {
            "cells": {
             "fill": {
              "color": "#EBF0F8"
             },
             "line": {
              "color": "white"
             }
            },
            "header": {
             "fill": {
              "color": "#C8D4E3"
             },
             "line": {
              "color": "white"
             }
            },
            "type": "table"
           }
          ]
         },
         "layout": {
          "annotationdefaults": {
           "arrowcolor": "#2a3f5f",
           "arrowhead": 0,
           "arrowwidth": 1
          },
          "autotypenumbers": "strict",
          "coloraxis": {
           "colorbar": {
            "outlinewidth": 0,
            "ticks": ""
           }
          },
          "colorscale": {
           "diverging": [
            [
             0,
             "#8e0152"
            ],
            [
             0.1,
             "#c51b7d"
            ],
            [
             0.2,
             "#de77ae"
            ],
            [
             0.3,
             "#f1b6da"
            ],
            [
             0.4,
             "#fde0ef"
            ],
            [
             0.5,
             "#f7f7f7"
            ],
            [
             0.6,
             "#e6f5d0"
            ],
            [
             0.7,
             "#b8e186"
            ],
            [
             0.8,
             "#7fbc41"
            ],
            [
             0.9,
             "#4d9221"
            ],
            [
             1,
             "#276419"
            ]
           ],
           "sequential": [
            [
             0,
             "#0d0887"
            ],
            [
             0.1111111111111111,
             "#46039f"
            ],
            [
             0.2222222222222222,
             "#7201a8"
            ],
            [
             0.3333333333333333,
             "#9c179e"
            ],
            [
             0.4444444444444444,
             "#bd3786"
            ],
            [
             0.5555555555555556,
             "#d8576b"
            ],
            [
             0.6666666666666666,
             "#ed7953"
            ],
            [
             0.7777777777777778,
             "#fb9f3a"
            ],
            [
             0.8888888888888888,
             "#fdca26"
            ],
            [
             1,
             "#f0f921"
            ]
           ],
           "sequentialminus": [
            [
             0,
             "#0d0887"
            ],
            [
             0.1111111111111111,
             "#46039f"
            ],
            [
             0.2222222222222222,
             "#7201a8"
            ],
            [
             0.3333333333333333,
             "#9c179e"
            ],
            [
             0.4444444444444444,
             "#bd3786"
            ],
            [
             0.5555555555555556,
             "#d8576b"
            ],
            [
             0.6666666666666666,
             "#ed7953"
            ],
            [
             0.7777777777777778,
             "#fb9f3a"
            ],
            [
             0.8888888888888888,
             "#fdca26"
            ],
            [
             1,
             "#f0f921"
            ]
           ]
          },
          "colorway": [
           "#636efa",
           "#EF553B",
           "#00cc96",
           "#ab63fa",
           "#FFA15A",
           "#19d3f3",
           "#FF6692",
           "#B6E880",
           "#FF97FF",
           "#FECB52"
          ],
          "font": {
           "color": "#2a3f5f"
          },
          "geo": {
           "bgcolor": "white",
           "lakecolor": "white",
           "landcolor": "#E5ECF6",
           "showlakes": true,
           "showland": true,
           "subunitcolor": "white"
          },
          "hoverlabel": {
           "align": "left"
          },
          "hovermode": "closest",
          "mapbox": {
           "style": "light"
          },
          "paper_bgcolor": "white",
          "plot_bgcolor": "#E5ECF6",
          "polar": {
           "angularaxis": {
            "gridcolor": "white",
            "linecolor": "white",
            "ticks": ""
           },
           "bgcolor": "#E5ECF6",
           "radialaxis": {
            "gridcolor": "white",
            "linecolor": "white",
            "ticks": ""
           }
          },
          "scene": {
           "xaxis": {
            "backgroundcolor": "#E5ECF6",
            "gridcolor": "white",
            "gridwidth": 2,
            "linecolor": "white",
            "showbackground": true,
            "ticks": "",
            "zerolinecolor": "white"
           },
           "yaxis": {
            "backgroundcolor": "#E5ECF6",
            "gridcolor": "white",
            "gridwidth": 2,
            "linecolor": "white",
            "showbackground": true,
            "ticks": "",
            "zerolinecolor": "white"
           },
           "zaxis": {
            "backgroundcolor": "#E5ECF6",
            "gridcolor": "white",
            "gridwidth": 2,
            "linecolor": "white",
            "showbackground": true,
            "ticks": "",
            "zerolinecolor": "white"
           }
          },
          "shapedefaults": {
           "line": {
            "color": "#2a3f5f"
           }
          },
          "ternary": {
           "aaxis": {
            "gridcolor": "white",
            "linecolor": "white",
            "ticks": ""
           },
           "baxis": {
            "gridcolor": "white",
            "linecolor": "white",
            "ticks": ""
           },
           "bgcolor": "#E5ECF6",
           "caxis": {
            "gridcolor": "white",
            "linecolor": "white",
            "ticks": ""
           }
          },
          "title": {
           "x": 0.05
          },
          "xaxis": {
           "automargin": true,
           "gridcolor": "white",
           "linecolor": "white",
           "ticks": "",
           "title": {
            "standoff": 15
           },
           "zerolinecolor": "white",
           "zerolinewidth": 2
          },
          "yaxis": {
           "automargin": true,
           "gridcolor": "white",
           "linecolor": "white",
           "ticks": "",
           "title": {
            "standoff": 15
           },
           "zerolinecolor": "white",
           "zerolinewidth": 2
          }
         }
        },
        "title": {
         "text": "Energie soutirée par profil"
        },
        "width": 1500,
        "xaxis": {
         "anchor": "y",
         "domain": [
          0,
          0.2888888888888889
         ],
         "title": {
          "text": "date"
         }
        },
        "xaxis2": {
         "anchor": "y2",
         "domain": [
          0.35555555555555557,
          0.6444444444444445
         ],
         "title": {
          "text": "date"
         }
        },
        "xaxis3": {
         "anchor": "y3",
         "domain": [
          0.7111111111111111,
          1
         ],
         "title": {
          "text": "date"
         }
        },
        "yaxis": {
         "anchor": "x",
         "domain": [
          0,
          1
         ],
         "range": [
          0,
          5554629.873646
         ],
         "title": {
          "text": "Energie soutirée (MWh)"
         }
        },
        "yaxis2": {
         "anchor": "x2",
         "domain": [
          0,
          1
         ],
         "range": [
          0,
          1546768.938407
         ],
         "title": {
          "text": "Energie soutirée (MWh)"
         }
        },
        "yaxis3": {
         "anchor": "x3",
         "domain": [
          0,
          1
         ],
         "range": [
          0,
          6604.44451
         ],
         "title": {
          "text": "Energie soutirée (MWh)"
         }
        }
       }
      }
     },
     "metadata": {},
     "output_type": "display_data"
    }
   ],
   "source": [
    "# multiple subplots for each category of profile\n",
    "fig = make_subplots(\n",
    "    rows=1, cols=3,\n",
    "    subplot_titles=(\"RES\", \"PRO\", \"ENT\"))\n",
    "\n",
    "fig.add_trace(go.Bar(x=agg_idf2020_month[agg_idf2020_month[\"Catégorie profil\"] == \"RES\"][\"month\"], y=agg_idf2020_month[agg_idf2020_month[\"Catégorie profil\"] == \"RES\"][\"Total énergie soutirée (MWh)\"]),\n",
    "              row=1, col=1)\n",
    "\n",
    "fig.add_trace(go.Bar(x=agg_idf2020_month[agg_idf2020_month[\"Catégorie profil\"] == \"PRO\"][\"month\"], y=agg_idf2020_month[agg_idf2020_month[\"Catégorie profil\"] == \"PRO\"][\"Total énergie soutirée (MWh)\"]),\n",
    "              row=1, col=2)\n",
    "\n",
    "fig.add_trace(go.Bar(x=agg_idf2020_month[agg_idf2020_month[\"Catégorie profil\"] == \"ENT\"][\"month\"], y=agg_idf2020_month[agg_idf2020_month[\"Catégorie profil\"] == \"ENT\"][\"Total énergie soutirée (MWh)\"]),\n",
    "              row=1, col=3)\n",
    "\n",
    "fig.update_layout(height=500, width=1500,\n",
    "                  title_text=\"Energie soutirée par profil\")\n",
    "\n",
    "fig.update_xaxes(title_text=\"date\")\n",
    "fig.update_yaxes(title_text=\"Energie soutirée (MWh)\")\n",
    "# remove legend\n",
    "fig.update_layout(showlegend=False)\n",
    "#y axis scale from 0 to max value of each subplot\n",
    "fig.update_yaxes(range=[0, agg_idf2020_month[agg_idf2020_month[\"Catégorie profil\"] == \"RES\"][\"Total énergie soutirée (MWh)\"].max()], row=1, col=1)\n",
    "fig.update_yaxes(range=[0, agg_idf2020_month[agg_idf2020_month[\"Catégorie profil\"] == \"PRO\"][\"Total énergie soutirée (MWh)\"].max()], row=1, col=2)\n",
    "fig.update_yaxes(range=[0, agg_idf2020_month[agg_idf2020_month[\"Catégorie profil\"] == \"ENT\"][\"Total énergie soutirée (MWh)\"].max()], row=1, col=3)\n",
    "# change color of each subplot \n",
    "fig.update_traces(marker_color='rgb(88, 128, 97)', row=1, col=1)\n",
    "fig.update_traces(marker_color='rgb(253, 233, 234)', row=1, col=2)\n",
    "fig.update_traces(marker_color='rgb(231, 181, 172)', row=1, col=3)\n",
    "fig.show()"
   ]
  },
  {
   "cell_type": "code",
   "execution_count": null,
   "metadata": {},
   "outputs": [],
   "source": []
  }
 ],
 "metadata": {
  "kernelspec": {
   "display_name": "base",
   "language": "python",
   "name": "python3"
  },
  "language_info": {
   "codemirror_mode": {
    "name": "ipython",
    "version": 3
   },
   "file_extension": ".py",
   "mimetype": "text/x-python",
   "name": "python",
   "nbconvert_exporter": "python",
   "pygments_lexer": "ipython3",
   "version": "3.9.13 (main, Aug 25 2022, 23:51:50) [MSC v.1916 64 bit (AMD64)]"
  },
  "orig_nbformat": 4,
  "vscode": {
   "interpreter": {
    "hash": "7fa34090cb7af4223176c3ba8ae08a175f6370c1b6c642f4e551f736b02987b0"
   }
  }
 },
 "nbformat": 4,
 "nbformat_minor": 2
}
